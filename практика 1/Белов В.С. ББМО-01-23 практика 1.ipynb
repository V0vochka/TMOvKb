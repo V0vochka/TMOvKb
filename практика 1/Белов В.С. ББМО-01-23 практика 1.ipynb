{
  "nbformat": 4,
  "nbformat_minor": 0,
  "metadata": {
    "colab": {
      "provenance": []
    },
    "kernelspec": {
      "name": "python3",
      "display_name": "Python 3"
    },
    "language_info": {
      "name": "python"
    },
    "widgets": {
      "application/vnd.jupyter.widget-state+json": {
        "6b69cce231624ffcb92f127d46c8c02b": {
          "model_module": "@jupyter-widgets/controls",
          "model_name": "HBoxModel",
          "model_module_version": "1.5.0",
          "state": {
            "_dom_classes": [],
            "_model_module": "@jupyter-widgets/controls",
            "_model_module_version": "1.5.0",
            "_model_name": "HBoxModel",
            "_view_count": null,
            "_view_module": "@jupyter-widgets/controls",
            "_view_module_version": "1.5.0",
            "_view_name": "HBoxView",
            "box_style": "",
            "children": [
              "IPY_MODEL_8c80832280044c5eaa6df8ac5f8786b7",
              "IPY_MODEL_16ba5a79ca564d12ae76e81f86a73180",
              "IPY_MODEL_b2f74541ca134bba9e6ae1ee1c473b18"
            ],
            "layout": "IPY_MODEL_45aabe3195cb4e39b4d793cac7e68306"
          }
        },
        "8c80832280044c5eaa6df8ac5f8786b7": {
          "model_module": "@jupyter-widgets/controls",
          "model_name": "HTMLModel",
          "model_module_version": "1.5.0",
          "state": {
            "_dom_classes": [],
            "_model_module": "@jupyter-widgets/controls",
            "_model_module_version": "1.5.0",
            "_model_name": "HTMLModel",
            "_view_count": null,
            "_view_module": "@jupyter-widgets/controls",
            "_view_module_version": "1.5.0",
            "_view_name": "HTMLView",
            "description": "",
            "description_tooltip": null,
            "layout": "IPY_MODEL_817c61b7b0f5422e914d5259772b724a",
            "placeholder": "​",
            "style": "IPY_MODEL_aee5d2223b0848a8b3baaf8bd282b8e3",
            "value": "Processing: 100%"
          }
        },
        "16ba5a79ca564d12ae76e81f86a73180": {
          "model_module": "@jupyter-widgets/controls",
          "model_name": "FloatProgressModel",
          "model_module_version": "1.5.0",
          "state": {
            "_dom_classes": [],
            "_model_module": "@jupyter-widgets/controls",
            "_model_module_version": "1.5.0",
            "_model_name": "FloatProgressModel",
            "_view_count": null,
            "_view_module": "@jupyter-widgets/controls",
            "_view_module_version": "1.5.0",
            "_view_name": "ProgressView",
            "bar_style": "",
            "description": "",
            "description_tooltip": null,
            "layout": "IPY_MODEL_68c33335921a4baab174ddc7ab9c2559",
            "max": 65,
            "min": 0,
            "orientation": "horizontal",
            "style": "IPY_MODEL_beb783fdb29f450589e55e403f33802c",
            "value": 65
          }
        },
        "b2f74541ca134bba9e6ae1ee1c473b18": {
          "model_module": "@jupyter-widgets/controls",
          "model_name": "HTMLModel",
          "model_module_version": "1.5.0",
          "state": {
            "_dom_classes": [],
            "_model_module": "@jupyter-widgets/controls",
            "_model_module_version": "1.5.0",
            "_model_name": "HTMLModel",
            "_view_count": null,
            "_view_module": "@jupyter-widgets/controls",
            "_view_module_version": "1.5.0",
            "_view_name": "HTMLView",
            "description": "",
            "description_tooltip": null,
            "layout": "IPY_MODEL_470a2057754b498bb386d202f1f09ff1",
            "placeholder": "​",
            "style": "IPY_MODEL_ce8cd310af6b4c0ca01df0a9b16fc2b4",
            "value": " 65/65 [00:38&lt;00:00,  2.37it/s]"
          }
        },
        "45aabe3195cb4e39b4d793cac7e68306": {
          "model_module": "@jupyter-widgets/base",
          "model_name": "LayoutModel",
          "model_module_version": "1.2.0",
          "state": {
            "_model_module": "@jupyter-widgets/base",
            "_model_module_version": "1.2.0",
            "_model_name": "LayoutModel",
            "_view_count": null,
            "_view_module": "@jupyter-widgets/base",
            "_view_module_version": "1.2.0",
            "_view_name": "LayoutView",
            "align_content": null,
            "align_items": null,
            "align_self": null,
            "border": null,
            "bottom": null,
            "display": null,
            "flex": null,
            "flex_flow": null,
            "grid_area": null,
            "grid_auto_columns": null,
            "grid_auto_flow": null,
            "grid_auto_rows": null,
            "grid_column": null,
            "grid_gap": null,
            "grid_row": null,
            "grid_template_areas": null,
            "grid_template_columns": null,
            "grid_template_rows": null,
            "height": null,
            "justify_content": null,
            "justify_items": null,
            "left": null,
            "margin": null,
            "max_height": null,
            "max_width": null,
            "min_height": null,
            "min_width": null,
            "object_fit": null,
            "object_position": null,
            "order": null,
            "overflow": null,
            "overflow_x": null,
            "overflow_y": null,
            "padding": null,
            "right": null,
            "top": null,
            "visibility": "hidden",
            "width": null
          }
        },
        "817c61b7b0f5422e914d5259772b724a": {
          "model_module": "@jupyter-widgets/base",
          "model_name": "LayoutModel",
          "model_module_version": "1.2.0",
          "state": {
            "_model_module": "@jupyter-widgets/base",
            "_model_module_version": "1.2.0",
            "_model_name": "LayoutModel",
            "_view_count": null,
            "_view_module": "@jupyter-widgets/base",
            "_view_module_version": "1.2.0",
            "_view_name": "LayoutView",
            "align_content": null,
            "align_items": null,
            "align_self": null,
            "border": null,
            "bottom": null,
            "display": null,
            "flex": null,
            "flex_flow": null,
            "grid_area": null,
            "grid_auto_columns": null,
            "grid_auto_flow": null,
            "grid_auto_rows": null,
            "grid_column": null,
            "grid_gap": null,
            "grid_row": null,
            "grid_template_areas": null,
            "grid_template_columns": null,
            "grid_template_rows": null,
            "height": null,
            "justify_content": null,
            "justify_items": null,
            "left": null,
            "margin": null,
            "max_height": null,
            "max_width": null,
            "min_height": null,
            "min_width": null,
            "object_fit": null,
            "object_position": null,
            "order": null,
            "overflow": null,
            "overflow_x": null,
            "overflow_y": null,
            "padding": null,
            "right": null,
            "top": null,
            "visibility": null,
            "width": null
          }
        },
        "aee5d2223b0848a8b3baaf8bd282b8e3": {
          "model_module": "@jupyter-widgets/controls",
          "model_name": "DescriptionStyleModel",
          "model_module_version": "1.5.0",
          "state": {
            "_model_module": "@jupyter-widgets/controls",
            "_model_module_version": "1.5.0",
            "_model_name": "DescriptionStyleModel",
            "_view_count": null,
            "_view_module": "@jupyter-widgets/base",
            "_view_module_version": "1.2.0",
            "_view_name": "StyleView",
            "description_width": ""
          }
        },
        "68c33335921a4baab174ddc7ab9c2559": {
          "model_module": "@jupyter-widgets/base",
          "model_name": "LayoutModel",
          "model_module_version": "1.2.0",
          "state": {
            "_model_module": "@jupyter-widgets/base",
            "_model_module_version": "1.2.0",
            "_model_name": "LayoutModel",
            "_view_count": null,
            "_view_module": "@jupyter-widgets/base",
            "_view_module_version": "1.2.0",
            "_view_name": "LayoutView",
            "align_content": null,
            "align_items": null,
            "align_self": null,
            "border": null,
            "bottom": null,
            "display": null,
            "flex": null,
            "flex_flow": null,
            "grid_area": null,
            "grid_auto_columns": null,
            "grid_auto_flow": null,
            "grid_auto_rows": null,
            "grid_column": null,
            "grid_gap": null,
            "grid_row": null,
            "grid_template_areas": null,
            "grid_template_columns": null,
            "grid_template_rows": null,
            "height": null,
            "justify_content": null,
            "justify_items": null,
            "left": null,
            "margin": null,
            "max_height": null,
            "max_width": null,
            "min_height": null,
            "min_width": null,
            "object_fit": null,
            "object_position": null,
            "order": null,
            "overflow": null,
            "overflow_x": null,
            "overflow_y": null,
            "padding": null,
            "right": null,
            "top": null,
            "visibility": null,
            "width": null
          }
        },
        "beb783fdb29f450589e55e403f33802c": {
          "model_module": "@jupyter-widgets/controls",
          "model_name": "ProgressStyleModel",
          "model_module_version": "1.5.0",
          "state": {
            "_model_module": "@jupyter-widgets/controls",
            "_model_module_version": "1.5.0",
            "_model_name": "ProgressStyleModel",
            "_view_count": null,
            "_view_module": "@jupyter-widgets/base",
            "_view_module_version": "1.2.0",
            "_view_name": "StyleView",
            "bar_color": null,
            "description_width": ""
          }
        },
        "470a2057754b498bb386d202f1f09ff1": {
          "model_module": "@jupyter-widgets/base",
          "model_name": "LayoutModel",
          "model_module_version": "1.2.0",
          "state": {
            "_model_module": "@jupyter-widgets/base",
            "_model_module_version": "1.2.0",
            "_model_name": "LayoutModel",
            "_view_count": null,
            "_view_module": "@jupyter-widgets/base",
            "_view_module_version": "1.2.0",
            "_view_name": "LayoutView",
            "align_content": null,
            "align_items": null,
            "align_self": null,
            "border": null,
            "bottom": null,
            "display": null,
            "flex": null,
            "flex_flow": null,
            "grid_area": null,
            "grid_auto_columns": null,
            "grid_auto_flow": null,
            "grid_auto_rows": null,
            "grid_column": null,
            "grid_gap": null,
            "grid_row": null,
            "grid_template_areas": null,
            "grid_template_columns": null,
            "grid_template_rows": null,
            "height": null,
            "justify_content": null,
            "justify_items": null,
            "left": null,
            "margin": null,
            "max_height": null,
            "max_width": null,
            "min_height": null,
            "min_width": null,
            "object_fit": null,
            "object_position": null,
            "order": null,
            "overflow": null,
            "overflow_x": null,
            "overflow_y": null,
            "padding": null,
            "right": null,
            "top": null,
            "visibility": null,
            "width": null
          }
        },
        "ce8cd310af6b4c0ca01df0a9b16fc2b4": {
          "model_module": "@jupyter-widgets/controls",
          "model_name": "DescriptionStyleModel",
          "model_module_version": "1.5.0",
          "state": {
            "_model_module": "@jupyter-widgets/controls",
            "_model_module_version": "1.5.0",
            "_model_name": "DescriptionStyleModel",
            "_view_count": null,
            "_view_module": "@jupyter-widgets/base",
            "_view_module_version": "1.2.0",
            "_view_name": "StyleView",
            "description_width": ""
          }
        }
      }
    }
  },
  "cells": [
    {
      "cell_type": "markdown",
      "source": [
        "\n",
        "**Практическая работа #1. Методы машинного обучения в задачах кибербезопасности**\n",
        "\n",
        "Работу выполнил студент:\n",
        "\n",
        "группы: ББМО-01-23\n",
        "\n",
        "Белов Владимир Станиславович"
      ],
      "metadata": {
        "id": "OGVeKfPH98q5"
      }
    },
    {
      "cell_type": "markdown",
      "source": [
        "**Задание 1. Разбиение выборки на обучающую и тестовую**"
      ],
      "metadata": {
        "id": "MjiFv-RK-IXT"
      }
    },
    {
      "cell_type": "markdown",
      "source": [
        "Поключим библиотеки, с которыми будем работать"
      ],
      "metadata": {
        "id": "p8wLpO7BGIEW"
      }
    },
    {
      "cell_type": "code",
      "execution_count": 38,
      "metadata": {
        "id": "UO627UzZ98GY"
      },
      "outputs": [],
      "source": [
        "import numpy as np\n",
        "import pandas as pd\n",
        "import sklearn as skl\n",
        "import matplotlib.pyplot as plt"
      ]
    },
    {
      "cell_type": "markdown",
      "source": [
        "Импортируем набор данных и выведем содержимое в нём"
      ],
      "metadata": {
        "id": "fN15C70gGTA1"
      }
    },
    {
      "cell_type": "code",
      "source": [
        "url = \"https://archive.ics.uci.edu/ml/machine-learning-databases/spambase/spambase.data\"\n",
        "spam = pd.read_csv(url)\n",
        "spam.head()"
      ],
      "metadata": {
        "colab": {
          "base_uri": "https://localhost:8080/",
          "height": 256
        },
        "id": "3tD7CkbhGTgA",
        "outputId": "d303bcb9-2332-461f-fce8-5ee5c4e2efb1"
      },
      "execution_count": 39,
      "outputs": [
        {
          "output_type": "execute_result",
          "data": {
            "text/plain": [
              "      0  0.64  0.64.1  0.1  0.32   0.2   0.3   0.4   0.5   0.6  ...  0.41  \\\n",
              "0  0.21  0.28    0.50  0.0  0.14  0.28  0.21  0.07  0.00  0.94  ...  0.00   \n",
              "1  0.06  0.00    0.71  0.0  1.23  0.19  0.19  0.12  0.64  0.25  ...  0.01   \n",
              "2  0.00  0.00    0.00  0.0  0.63  0.00  0.31  0.63  0.31  0.63  ...  0.00   \n",
              "3  0.00  0.00    0.00  0.0  0.63  0.00  0.31  0.63  0.31  0.63  ...  0.00   \n",
              "4  0.00  0.00    0.00  0.0  1.85  0.00  0.00  1.85  0.00  0.00  ...  0.00   \n",
              "\n",
              "    0.42  0.43  0.778   0.44   0.45  3.756   61   278  1  \n",
              "0  0.132   0.0  0.372  0.180  0.048  5.114  101  1028  1  \n",
              "1  0.143   0.0  0.276  0.184  0.010  9.821  485  2259  1  \n",
              "2  0.137   0.0  0.137  0.000  0.000  3.537   40   191  1  \n",
              "3  0.135   0.0  0.135  0.000  0.000  3.537   40   191  1  \n",
              "4  0.223   0.0  0.000  0.000  0.000  3.000   15    54  1  \n",
              "\n",
              "[5 rows x 58 columns]"
            ],
            "text/html": [
              "\n",
              "  <div id=\"df-87bb8d00-d8bc-4a36-8d8b-753c24d6d688\" class=\"colab-df-container\">\n",
              "    <div>\n",
              "<style scoped>\n",
              "    .dataframe tbody tr th:only-of-type {\n",
              "        vertical-align: middle;\n",
              "    }\n",
              "\n",
              "    .dataframe tbody tr th {\n",
              "        vertical-align: top;\n",
              "    }\n",
              "\n",
              "    .dataframe thead th {\n",
              "        text-align: right;\n",
              "    }\n",
              "</style>\n",
              "<table border=\"1\" class=\"dataframe\">\n",
              "  <thead>\n",
              "    <tr style=\"text-align: right;\">\n",
              "      <th></th>\n",
              "      <th>0</th>\n",
              "      <th>0.64</th>\n",
              "      <th>0.64.1</th>\n",
              "      <th>0.1</th>\n",
              "      <th>0.32</th>\n",
              "      <th>0.2</th>\n",
              "      <th>0.3</th>\n",
              "      <th>0.4</th>\n",
              "      <th>0.5</th>\n",
              "      <th>0.6</th>\n",
              "      <th>...</th>\n",
              "      <th>0.41</th>\n",
              "      <th>0.42</th>\n",
              "      <th>0.43</th>\n",
              "      <th>0.778</th>\n",
              "      <th>0.44</th>\n",
              "      <th>0.45</th>\n",
              "      <th>3.756</th>\n",
              "      <th>61</th>\n",
              "      <th>278</th>\n",
              "      <th>1</th>\n",
              "    </tr>\n",
              "  </thead>\n",
              "  <tbody>\n",
              "    <tr>\n",
              "      <th>0</th>\n",
              "      <td>0.21</td>\n",
              "      <td>0.28</td>\n",
              "      <td>0.50</td>\n",
              "      <td>0.0</td>\n",
              "      <td>0.14</td>\n",
              "      <td>0.28</td>\n",
              "      <td>0.21</td>\n",
              "      <td>0.07</td>\n",
              "      <td>0.00</td>\n",
              "      <td>0.94</td>\n",
              "      <td>...</td>\n",
              "      <td>0.00</td>\n",
              "      <td>0.132</td>\n",
              "      <td>0.0</td>\n",
              "      <td>0.372</td>\n",
              "      <td>0.180</td>\n",
              "      <td>0.048</td>\n",
              "      <td>5.114</td>\n",
              "      <td>101</td>\n",
              "      <td>1028</td>\n",
              "      <td>1</td>\n",
              "    </tr>\n",
              "    <tr>\n",
              "      <th>1</th>\n",
              "      <td>0.06</td>\n",
              "      <td>0.00</td>\n",
              "      <td>0.71</td>\n",
              "      <td>0.0</td>\n",
              "      <td>1.23</td>\n",
              "      <td>0.19</td>\n",
              "      <td>0.19</td>\n",
              "      <td>0.12</td>\n",
              "      <td>0.64</td>\n",
              "      <td>0.25</td>\n",
              "      <td>...</td>\n",
              "      <td>0.01</td>\n",
              "      <td>0.143</td>\n",
              "      <td>0.0</td>\n",
              "      <td>0.276</td>\n",
              "      <td>0.184</td>\n",
              "      <td>0.010</td>\n",
              "      <td>9.821</td>\n",
              "      <td>485</td>\n",
              "      <td>2259</td>\n",
              "      <td>1</td>\n",
              "    </tr>\n",
              "    <tr>\n",
              "      <th>2</th>\n",
              "      <td>0.00</td>\n",
              "      <td>0.00</td>\n",
              "      <td>0.00</td>\n",
              "      <td>0.0</td>\n",
              "      <td>0.63</td>\n",
              "      <td>0.00</td>\n",
              "      <td>0.31</td>\n",
              "      <td>0.63</td>\n",
              "      <td>0.31</td>\n",
              "      <td>0.63</td>\n",
              "      <td>...</td>\n",
              "      <td>0.00</td>\n",
              "      <td>0.137</td>\n",
              "      <td>0.0</td>\n",
              "      <td>0.137</td>\n",
              "      <td>0.000</td>\n",
              "      <td>0.000</td>\n",
              "      <td>3.537</td>\n",
              "      <td>40</td>\n",
              "      <td>191</td>\n",
              "      <td>1</td>\n",
              "    </tr>\n",
              "    <tr>\n",
              "      <th>3</th>\n",
              "      <td>0.00</td>\n",
              "      <td>0.00</td>\n",
              "      <td>0.00</td>\n",
              "      <td>0.0</td>\n",
              "      <td>0.63</td>\n",
              "      <td>0.00</td>\n",
              "      <td>0.31</td>\n",
              "      <td>0.63</td>\n",
              "      <td>0.31</td>\n",
              "      <td>0.63</td>\n",
              "      <td>...</td>\n",
              "      <td>0.00</td>\n",
              "      <td>0.135</td>\n",
              "      <td>0.0</td>\n",
              "      <td>0.135</td>\n",
              "      <td>0.000</td>\n",
              "      <td>0.000</td>\n",
              "      <td>3.537</td>\n",
              "      <td>40</td>\n",
              "      <td>191</td>\n",
              "      <td>1</td>\n",
              "    </tr>\n",
              "    <tr>\n",
              "      <th>4</th>\n",
              "      <td>0.00</td>\n",
              "      <td>0.00</td>\n",
              "      <td>0.00</td>\n",
              "      <td>0.0</td>\n",
              "      <td>1.85</td>\n",
              "      <td>0.00</td>\n",
              "      <td>0.00</td>\n",
              "      <td>1.85</td>\n",
              "      <td>0.00</td>\n",
              "      <td>0.00</td>\n",
              "      <td>...</td>\n",
              "      <td>0.00</td>\n",
              "      <td>0.223</td>\n",
              "      <td>0.0</td>\n",
              "      <td>0.000</td>\n",
              "      <td>0.000</td>\n",
              "      <td>0.000</td>\n",
              "      <td>3.000</td>\n",
              "      <td>15</td>\n",
              "      <td>54</td>\n",
              "      <td>1</td>\n",
              "    </tr>\n",
              "  </tbody>\n",
              "</table>\n",
              "<p>5 rows × 58 columns</p>\n",
              "</div>\n",
              "    <div class=\"colab-df-buttons\">\n",
              "\n",
              "  <div class=\"colab-df-container\">\n",
              "    <button class=\"colab-df-convert\" onclick=\"convertToInteractive('df-87bb8d00-d8bc-4a36-8d8b-753c24d6d688')\"\n",
              "            title=\"Convert this dataframe to an interactive table.\"\n",
              "            style=\"display:none;\">\n",
              "\n",
              "  <svg xmlns=\"http://www.w3.org/2000/svg\" height=\"24px\" viewBox=\"0 -960 960 960\">\n",
              "    <path d=\"M120-120v-720h720v720H120Zm60-500h600v-160H180v160Zm220 220h160v-160H400v160Zm0 220h160v-160H400v160ZM180-400h160v-160H180v160Zm440 0h160v-160H620v160ZM180-180h160v-160H180v160Zm440 0h160v-160H620v160Z\"/>\n",
              "  </svg>\n",
              "    </button>\n",
              "\n",
              "  <style>\n",
              "    .colab-df-container {\n",
              "      display:flex;\n",
              "      gap: 12px;\n",
              "    }\n",
              "\n",
              "    .colab-df-convert {\n",
              "      background-color: #E8F0FE;\n",
              "      border: none;\n",
              "      border-radius: 50%;\n",
              "      cursor: pointer;\n",
              "      display: none;\n",
              "      fill: #1967D2;\n",
              "      height: 32px;\n",
              "      padding: 0 0 0 0;\n",
              "      width: 32px;\n",
              "    }\n",
              "\n",
              "    .colab-df-convert:hover {\n",
              "      background-color: #E2EBFA;\n",
              "      box-shadow: 0px 1px 2px rgba(60, 64, 67, 0.3), 0px 1px 3px 1px rgba(60, 64, 67, 0.15);\n",
              "      fill: #174EA6;\n",
              "    }\n",
              "\n",
              "    .colab-df-buttons div {\n",
              "      margin-bottom: 4px;\n",
              "    }\n",
              "\n",
              "    [theme=dark] .colab-df-convert {\n",
              "      background-color: #3B4455;\n",
              "      fill: #D2E3FC;\n",
              "    }\n",
              "\n",
              "    [theme=dark] .colab-df-convert:hover {\n",
              "      background-color: #434B5C;\n",
              "      box-shadow: 0px 1px 3px 1px rgba(0, 0, 0, 0.15);\n",
              "      filter: drop-shadow(0px 1px 2px rgba(0, 0, 0, 0.3));\n",
              "      fill: #FFFFFF;\n",
              "    }\n",
              "  </style>\n",
              "\n",
              "    <script>\n",
              "      const buttonEl =\n",
              "        document.querySelector('#df-87bb8d00-d8bc-4a36-8d8b-753c24d6d688 button.colab-df-convert');\n",
              "      buttonEl.style.display =\n",
              "        google.colab.kernel.accessAllowed ? 'block' : 'none';\n",
              "\n",
              "      async function convertToInteractive(key) {\n",
              "        const element = document.querySelector('#df-87bb8d00-d8bc-4a36-8d8b-753c24d6d688');\n",
              "        const dataTable =\n",
              "          await google.colab.kernel.invokeFunction('convertToInteractive',\n",
              "                                                    [key], {});\n",
              "        if (!dataTable) return;\n",
              "\n",
              "        const docLinkHtml = 'Like what you see? Visit the ' +\n",
              "          '<a target=\"_blank\" href=https://colab.research.google.com/notebooks/data_table.ipynb>data table notebook</a>'\n",
              "          + ' to learn more about interactive tables.';\n",
              "        element.innerHTML = '';\n",
              "        dataTable['output_type'] = 'display_data';\n",
              "        await google.colab.output.renderOutput(dataTable, element);\n",
              "        const docLink = document.createElement('div');\n",
              "        docLink.innerHTML = docLinkHtml;\n",
              "        element.appendChild(docLink);\n",
              "      }\n",
              "    </script>\n",
              "  </div>\n",
              "\n",
              "\n",
              "<div id=\"df-da9886aa-037f-4f84-9bac-d8f7b6bfc8d1\">\n",
              "  <button class=\"colab-df-quickchart\" onclick=\"quickchart('df-da9886aa-037f-4f84-9bac-d8f7b6bfc8d1')\"\n",
              "            title=\"Suggest charts\"\n",
              "            style=\"display:none;\">\n",
              "\n",
              "<svg xmlns=\"http://www.w3.org/2000/svg\" height=\"24px\"viewBox=\"0 0 24 24\"\n",
              "     width=\"24px\">\n",
              "    <g>\n",
              "        <path d=\"M19 3H5c-1.1 0-2 .9-2 2v14c0 1.1.9 2 2 2h14c1.1 0 2-.9 2-2V5c0-1.1-.9-2-2-2zM9 17H7v-7h2v7zm4 0h-2V7h2v10zm4 0h-2v-4h2v4z\"/>\n",
              "    </g>\n",
              "</svg>\n",
              "  </button>\n",
              "\n",
              "<style>\n",
              "  .colab-df-quickchart {\n",
              "      --bg-color: #E8F0FE;\n",
              "      --fill-color: #1967D2;\n",
              "      --hover-bg-color: #E2EBFA;\n",
              "      --hover-fill-color: #174EA6;\n",
              "      --disabled-fill-color: #AAA;\n",
              "      --disabled-bg-color: #DDD;\n",
              "  }\n",
              "\n",
              "  [theme=dark] .colab-df-quickchart {\n",
              "      --bg-color: #3B4455;\n",
              "      --fill-color: #D2E3FC;\n",
              "      --hover-bg-color: #434B5C;\n",
              "      --hover-fill-color: #FFFFFF;\n",
              "      --disabled-bg-color: #3B4455;\n",
              "      --disabled-fill-color: #666;\n",
              "  }\n",
              "\n",
              "  .colab-df-quickchart {\n",
              "    background-color: var(--bg-color);\n",
              "    border: none;\n",
              "    border-radius: 50%;\n",
              "    cursor: pointer;\n",
              "    display: none;\n",
              "    fill: var(--fill-color);\n",
              "    height: 32px;\n",
              "    padding: 0;\n",
              "    width: 32px;\n",
              "  }\n",
              "\n",
              "  .colab-df-quickchart:hover {\n",
              "    background-color: var(--hover-bg-color);\n",
              "    box-shadow: 0 1px 2px rgba(60, 64, 67, 0.3), 0 1px 3px 1px rgba(60, 64, 67, 0.15);\n",
              "    fill: var(--button-hover-fill-color);\n",
              "  }\n",
              "\n",
              "  .colab-df-quickchart-complete:disabled,\n",
              "  .colab-df-quickchart-complete:disabled:hover {\n",
              "    background-color: var(--disabled-bg-color);\n",
              "    fill: var(--disabled-fill-color);\n",
              "    box-shadow: none;\n",
              "  }\n",
              "\n",
              "  .colab-df-spinner {\n",
              "    border: 2px solid var(--fill-color);\n",
              "    border-color: transparent;\n",
              "    border-bottom-color: var(--fill-color);\n",
              "    animation:\n",
              "      spin 1s steps(1) infinite;\n",
              "  }\n",
              "\n",
              "  @keyframes spin {\n",
              "    0% {\n",
              "      border-color: transparent;\n",
              "      border-bottom-color: var(--fill-color);\n",
              "      border-left-color: var(--fill-color);\n",
              "    }\n",
              "    20% {\n",
              "      border-color: transparent;\n",
              "      border-left-color: var(--fill-color);\n",
              "      border-top-color: var(--fill-color);\n",
              "    }\n",
              "    30% {\n",
              "      border-color: transparent;\n",
              "      border-left-color: var(--fill-color);\n",
              "      border-top-color: var(--fill-color);\n",
              "      border-right-color: var(--fill-color);\n",
              "    }\n",
              "    40% {\n",
              "      border-color: transparent;\n",
              "      border-right-color: var(--fill-color);\n",
              "      border-top-color: var(--fill-color);\n",
              "    }\n",
              "    60% {\n",
              "      border-color: transparent;\n",
              "      border-right-color: var(--fill-color);\n",
              "    }\n",
              "    80% {\n",
              "      border-color: transparent;\n",
              "      border-right-color: var(--fill-color);\n",
              "      border-bottom-color: var(--fill-color);\n",
              "    }\n",
              "    90% {\n",
              "      border-color: transparent;\n",
              "      border-bottom-color: var(--fill-color);\n",
              "    }\n",
              "  }\n",
              "</style>\n",
              "\n",
              "  <script>\n",
              "    async function quickchart(key) {\n",
              "      const quickchartButtonEl =\n",
              "        document.querySelector('#' + key + ' button');\n",
              "      quickchartButtonEl.disabled = true;  // To prevent multiple clicks.\n",
              "      quickchartButtonEl.classList.add('colab-df-spinner');\n",
              "      try {\n",
              "        const charts = await google.colab.kernel.invokeFunction(\n",
              "            'suggestCharts', [key], {});\n",
              "      } catch (error) {\n",
              "        console.error('Error during call to suggestCharts:', error);\n",
              "      }\n",
              "      quickchartButtonEl.classList.remove('colab-df-spinner');\n",
              "      quickchartButtonEl.classList.add('colab-df-quickchart-complete');\n",
              "    }\n",
              "    (() => {\n",
              "      let quickchartButtonEl =\n",
              "        document.querySelector('#df-da9886aa-037f-4f84-9bac-d8f7b6bfc8d1 button');\n",
              "      quickchartButtonEl.style.display =\n",
              "        google.colab.kernel.accessAllowed ? 'block' : 'none';\n",
              "    })();\n",
              "  </script>\n",
              "</div>\n",
              "    </div>\n",
              "  </div>\n"
            ],
            "application/vnd.google.colaboratory.intrinsic+json": {
              "type": "dataframe",
              "variable_name": "spam"
            }
          },
          "metadata": {},
          "execution_count": 39
        }
      ]
    },
    {
      "cell_type": "markdown",
      "source": [
        "Проведём предобработку данных"
      ],
      "metadata": {
        "id": "72XzcXUGG-2Y"
      }
    },
    {
      "cell_type": "code",
      "source": [
        "column_names = [\n",
        "    \"word_freq_make\", \"word_freq_address\", \"word_freq_all\", \"word_freq_3d\",\n",
        "    \"word_freq_our\", \"word_freq_over\", \"word_freq_remove\", \"word_freq_internet\",\n",
        "    \"word_freq_order\", \"word_freq_mail\", \"word_freq_receive\", \"word_freq_will\",\n",
        "    \"word_freq_people\", \"word_freq_report\", \"word_freq_addresses\", \"word_freq_free\",\n",
        "    \"word_freq_business\", \"word_freq_email\", \"word_freq_you\", \"word_freq_credit\",\n",
        "    \"word_freq_your\", \"word_freq_font\", \"word_freq_000\", \"word_freq_money\",\n",
        "    \"word_freq_hp\", \"word_freq_hpl\", \"word_freq_george\", \"word_freq_650\",\n",
        "    \"word_freq_lab\", \"word_freq_labs\", \"word_freq_telnet\", \"word_freq_857\",\n",
        "    \"word_freq_data\", \"word_freq_415\", \"word_freq_85\", \"word_freq_technology\",\n",
        "    \"word_freq_1999\", \"word_freq_parts\", \"word_freq_pm\", \"word_freq_direct\",\n",
        "    \"word_freq_cs\", \"word_freq_meeting\", \"word_freq_original\", \"word_freq_project\",\n",
        "    \"word_freq_re\", \"word_freq_edu\", \"word_freq_table\", \"word_freq_conference\",\n",
        "    \"char_freq_;\", \"char_freq_(\", \"char_freq_[\", \"char_freq_!\", \"char_freq_$\",\n",
        "    \"char_freq_#\", \"capital_run_length_average\", \"capital_run_length_longest\",\n",
        "    \"capital_run_length_total\", \"is_spam\"\n",
        "]\n",
        "data = pd.read_csv(url, header=None, names=column_names)"
      ],
      "metadata": {
        "id": "cBFuFAERHNeU"
      },
      "execution_count": 40,
      "outputs": []
    },
    {
      "cell_type": "markdown",
      "source": [
        "Теперь мы можем провести анализ сбалансированности классов"
      ],
      "metadata": {
        "id": "_ok1a6EdIVkS"
      }
    },
    {
      "cell_type": "code",
      "source": [
        "class_counts = data['is_spam'].value_counts()\n",
        "plt.bar(class_counts.index, class_counts.values)\n",
        "plt.xlabel('Класс')\n",
        "plt.xticks(df['is_spam'].unique())\n",
        "plt.ylabel('Число')\n",
        "plt.title('Сбалансированность классов')\n",
        "plt.show()"
      ],
      "metadata": {
        "colab": {
          "base_uri": "https://localhost:8080/",
          "height": 480
        },
        "id": "rdyiey3-G_K9",
        "outputId": "e7c38a44-a4ca-4f84-b652-65dc106ee749"
      },
      "execution_count": 41,
      "outputs": [
        {
          "output_type": "display_data",
          "data": {
            "text/plain": [
              "<Figure size 640x480 with 1 Axes>"
            ],
            "image/png": "[encoded data removed]"
          },
          "metadata": {}
        }
      ]
    },
    {
      "cell_type": "markdown",
      "source": [
        "Проведём разделение на выборки с использованием train_test_split из sklearn.model_selection в соотношении 80/20 и 70/30"
      ],
      "metadata": {
        "id": "GEQI5AK0JZ2Z"
      }
    },
    {
      "cell_type": "code",
      "source": [
        "X = df.drop(columns=['is_spam'])\n",
        "y = df['is_spam']\n",
        "\n",
        "for train_index, test_index in skl.model_selection.StratifiedShuffleSplit(n_splits=1, test_size=0.2, random_state=42).split(X, y):\n",
        "    X_train, X_test = X.iloc[train_index], X.iloc[test_index]\n",
        "    y_train, y_test = y.iloc[train_index], y.iloc[test_index]\n",
        "print(\"Первая обучающая выборка:\", X_train.shape[0])\n",
        "print(\"Первая тестовая выборка:\", X_test.shape[0])\n",
        "for train_index, test_index in skl.model_selection.StratifiedShuffleSplit(n_splits=1, test_size=0.3, random_state=42).split(X, y):\n",
        "    X_train, X_test = X.iloc[train_index], X.iloc[test_index]\n",
        "    y_train, y_test = y.iloc[train_index], y.iloc[test_index]\n",
        "print(\"Вторая обучающая выборка:\", X_train.shape[0])\n",
        "print(\"Вторая тестовая выборка:\", X_test.shape[0])"
      ],
      "metadata": {
        "colab": {
          "base_uri": "https://localhost:8080/"
        },
        "id": "60hay5FFJaJg",
        "outputId": "1a3ea35a-04cd-4ff7-8211-ef3bff83317a"
      },
      "execution_count": 42,
      "outputs": [
        {
          "output_type": "stream",
          "name": "stdout",
          "text": [
            "Первая обучающая выборка: 3680\n",
            "Первая тестовая выборка: 921\n",
            "Вторая обучающая выборка: 3220\n",
            "Вторая тестовая выборка: 1381\n"
          ]
        }
      ]
    },
    {
      "cell_type": "markdown",
      "source": [
        "**Задание 2. Нормализация данных**\n",
        "\n",
        "Загрузим набор и выведем информацию"
      ],
      "metadata": {
        "id": "0t4mUrqNKfum"
      }
    },
    {
      "cell_type": "code",
      "source": [
        "nsfg = pd.read_hdf('/content/sample_data/nsfg.hdf5')\n",
        "print(nsfg.shape)\n",
        "print(nsfg.columns)\n",
        "ounces = nsfg['birthwgt_oz1']\n",
        "# Печать первых 5 элементов унций\n",
        "print(ounces.head(5))"
      ],
      "metadata": {
        "colab": {
          "base_uri": "https://localhost:8080/"
        },
        "id": "drey830DLSh9",
        "outputId": "30a841ed-812b-457b-b063-c2f2526c7ddc"
      },
      "execution_count": 46,
      "outputs": [
        {
          "output_type": "stream",
          "name": "stdout",
          "text": [
            "(9358, 10)\n",
            "Index(['caseid', 'outcome', 'birthwgt_lb1', 'birthwgt_oz1', 'prglngth',\n",
            "       'nbrnaliv', 'agecon', 'agepreg', 'hpagelb', 'wgt2013_2015'],\n",
            "      dtype='object')\n",
            "0     4.0\n",
            "1    12.0\n",
            "2     4.0\n",
            "3     NaN\n",
            "4    13.0\n",
            "Name: birthwgt_oz1, dtype: float64\n"
          ]
        }
      ]
    },
    {
      "cell_type": "markdown",
      "source": [
        "Произведем чистку, уберем неопознанные переменные из 8 столбца"
      ],
      "metadata": {
        "id": "h-7VjPGjL1Ot"
      }
    },
    {
      "cell_type": "code",
      "source": [
        "nsfg['nbrnaliv'].value_counts()\n",
        "nsfg['nbrnaliv'].replace([8], np.nan, inplace=True)\n",
        "print(nsfg['nbrnaliv'].value_counts())"
      ],
      "metadata": {
        "colab": {
          "base_uri": "https://localhost:8080/"
        },
        "id": "DkB3uL_cL1fX",
        "outputId": "fcc4ff2b-01e2-44ce-b6c8-829c5f7b582f"
      },
      "execution_count": 49,
      "outputs": [
        {
          "output_type": "stream",
          "name": "stdout",
          "text": [
            "nbrnaliv\n",
            "1.0    6379\n",
            "2.0     100\n",
            "3.0       5\n",
            "Name: count, dtype: int64\n"
          ]
        }
      ]
    },
    {
      "cell_type": "markdown",
      "source": [
        "Вычислим разницу"
      ],
      "metadata": {
        "id": "5tmHBqNvMeOz"
      }
    },
    {
      "cell_type": "code",
      "source": [
        "nsfg['agecon'].describe()\n",
        "nsfg['agepreg'].describe()\n",
        "\n",
        "# Выделим столбцы и разделим на 100.\n",
        "agecon = nsfg['agecon'] / 100\n",
        "agepreg = nsfg['agepreg'] / 100\n",
        "\n",
        "preg_length = agepreg - agecon\n",
        "print(preg_length.describe())"
      ],
      "metadata": {
        "colab": {
          "base_uri": "https://localhost:8080/"
        },
        "id": "60FS5EsUMedN",
        "outputId": "d471d34e-35c8-4500-e78d-5366d3fe11cd"
      },
      "execution_count": 50,
      "outputs": [
        {
          "output_type": "stream",
          "name": "stdout",
          "text": [
            "count    9109.000000\n",
            "mean        0.552069\n",
            "std         0.271479\n",
            "min         0.000000\n",
            "25%         0.250000\n",
            "50%         0.670000\n",
            "75%         0.750000\n",
            "max         0.920000\n",
            "dtype: float64\n"
          ]
        }
      ]
    },
    {
      "cell_type": "markdown",
      "source": [
        "Виазуализируем данные и проведем фильтрацию"
      ],
      "metadata": {
        "id": "V7jsQt1fM7_f"
      }
    },
    {
      "cell_type": "code",
      "source": [
        "plt.hist(agecon, bins=20)\n",
        "plt.xlabel(\"Возраст при зачатии\")\n",
        "plt.ylabel('Число беременностей')\n",
        "plt.hist(agecon, bins=20, histtype='step')\n",
        "plt.xlabel(\"Возраст при зачатии\")\n",
        "plt.ylabel('Число беременностей')"
      ],
      "metadata": {
        "colab": {
          "base_uri": "https://localhost:8080/",
          "height": 475
        },
        "id": "SUONa_ZmM8R5",
        "outputId": "6736b7d6-a25a-4180-f577-863d0b464ca6"
      },
      "execution_count": 55,
      "outputs": [
        {
          "output_type": "execute_result",
          "data": {
            "text/plain": [
              "Text(0, 0.5, 'Число беременностей')"
            ]
          },
          "metadata": {},
          "execution_count": 55
        },
        {
          "output_type": "display_data",
          "data": {
            "text/plain": [
              "<Figure size 640x480 with 1 Axes>"
            ],
            "image/png": "[encoded data removed]"
          },
          "metadata": {}
        }
      ]
    },
    {
      "cell_type": "markdown",
      "source": [
        "Высчитаем веса"
      ],
      "metadata": {
        "id": "2YCRkhKxNoU0"
      }
    },
    {
      "cell_type": "code",
      "source": [
        "def resample_rows_weighted(df, column='wgt2013_2015'):\n",
        "    \"\"\"Resamples a DataFrame using probabilities proportional to given column.\n",
        "    Args:\n",
        "        df: DataFrame\n",
        "        column: string column name to use as weights\n",
        "    returns:\n",
        "        DataFrame\n",
        "    \"\"\"\n",
        "    weights = df[column].copy()\n",
        "    weights /= sum(weights)\n",
        "    indices = np.random.choice(df.index, len(df), replace=True, p=weights)\n",
        "    sample = df.loc[indices]\n",
        "    return sample\n",
        "\n",
        "nsfg = resample_rows_weighted(nsfg, 'wgt2013_2015')\n",
        "pounds = nsfg['birthwgt_lb1'].replace([98, 99], np.nan)\n",
        "ounces = nsfg['birthwgt_oz1'].replace([98, 99], np.nan)\n",
        "\n",
        "birth_weight = pounds + ounces/16\n",
        "full_term = nsfg['prglngth'] >= 37\n",
        "full_term_weight = birth_weight[full_term]\n",
        "print(full_term_weight.mean())"
      ],
      "metadata": {
        "colab": {
          "base_uri": "https://localhost:8080/"
        },
        "id": "rTrw05GaNok9",
        "outputId": "d1eac658-37f1-4fea-f502-7e0983861ff8"
      },
      "execution_count": 56,
      "outputs": [
        {
          "output_type": "stream",
          "name": "stdout",
          "text": [
            "7.419248286435787\n"
          ]
        }
      ]
    },
    {
      "cell_type": "markdown",
      "source": [
        "Применим фильтр"
      ],
      "metadata": {
        "id": "7s4GN4pbNy8s"
      }
    },
    {
      "cell_type": "code",
      "source": [
        "\n",
        "full_term = nsfg['prglngth'] >= 37\n",
        "single = nsfg['nbrnaliv'] == 1\n",
        "\n",
        "single_full_term_weight = birth_weight[single & full_term]\n",
        "print('Single full-term mean:', single_full_term_weight.mean())\n",
        "\n",
        "mult_full_term_weight = birth_weight[~single & full_term]\n",
        "print('Multiple full-term mean:', mult_full_term_weight.mean())"
      ],
      "metadata": {
        "colab": {
          "base_uri": "https://localhost:8080/"
        },
        "id": "l1U2XpXyNzMw",
        "outputId": "72a48fb6-703e-45e3-ee85-e798dff7d0f1"
      },
      "execution_count": 57,
      "outputs": [
        {
          "output_type": "stream",
          "name": "stdout",
          "text": [
            "Single full-term mean: 7.430551771117166\n",
            "Multiple full-term mean: 5.823717948717949\n"
          ]
        }
      ]
    },
    {
      "cell_type": "markdown",
      "source": [
        "**Задание 3. Линейная алгебра**\n",
        "\n",
        "В данной задании нам необходимо решить 10 задач из файла 01-linear-algebra.ipynb\n",
        "\n",
        "1) Докажите, что транспонирование транспонированной матрицы - это сама матрица"
      ],
      "metadata": {
        "id": "l-EgFlTHOGpd"
      }
    },
    {
      "cell_type": "code",
      "source": [
        "matrix1 = np.array([[1, 2, 3],\n",
        "                    [4, 5, 6],\n",
        "                    [7, 8, 9]])\n",
        "matrix2 = matrix1.T.T\n",
        "print(\"Матрица:\",\"\\n\",matrix1)\n",
        "print(\"Дважды транспонированная матрица:\",\"\\n\",matrix2)"
      ],
      "metadata": {
        "colab": {
          "base_uri": "https://localhost:8080/"
        },
        "id": "NZGFYs2cO6SR",
        "outputId": "1aecd1b9-a0b2-4742-b97d-926e5d8415eb"
      },
      "execution_count": 76,
      "outputs": [
        {
          "output_type": "stream",
          "name": "stdout",
          "text": [
            "Матрица: \n",
            " [[1 2 3]\n",
            " [4 5 6]\n",
            " [7 8 9]]\n",
            "Дважды транспонированная матрица: \n",
            " [[1 2 3]\n",
            " [4 5 6]\n",
            " [7 8 9]]\n"
          ]
        }
      ]
    },
    {
      "cell_type": "markdown",
      "source": [
        "2) Для двух матриц, покажите, что сумма и транспозиция коммутируют"
      ],
      "metadata": {
        "id": "dpJTnkNMQT9v"
      }
    },
    {
      "cell_type": "code",
      "source": [
        "# Вычисление левой и правой частей выражения\n",
        "left_side = matrix1.T + matrix2.T\n",
        "right_side = (matrix1 + matrix2).T\n",
        "\n",
        "print(\"Левая часть выражения:\",\"\\n\",left_side)\n",
        "print(\"Правая часть выражения:\",\"\\n\",right_side)"
      ],
      "metadata": {
        "colab": {
          "base_uri": "https://localhost:8080/"
        },
        "id": "iN5jAaJTQXuJ",
        "outputId": "85b77886-6a8f-4063-de36-65c07d4fbb84"
      },
      "execution_count": 77,
      "outputs": [
        {
          "output_type": "stream",
          "name": "stdout",
          "text": [
            "Левая часть выражения: \n",
            " [[ 2  8 14]\n",
            " [ 4 10 16]\n",
            " [ 6 12 18]]\n",
            "Правая часть выражения: \n",
            " [[ 2  8 14]\n",
            " [ 4 10 16]\n",
            " [ 6 12 18]]\n"
          ]
        }
      ]
    },
    {
      "cell_type": "markdown",
      "source": [
        "3) Для любой квадратичной матрицы, сумма матриц $\\mathbf{A} + \\mathbf{A}^\\top$ всегда ли симметрична?"
      ],
      "metadata": {
        "id": "1aJ3VXd8Qy8b"
      }
    },
    {
      "cell_type": "code",
      "source": [
        "sum_matrix = matrix1 + matrix1.T\n",
        "is_symmetric = np.allclose(sum_matrix, sum_matrix.T)\n",
        "print(\"Сумма матрицы и её транспозиции:\", \"\\n\", sum_matrix)\n",
        "print(\"Матрица симметрична?\", is_symmetric)"
      ],
      "metadata": {
        "colab": {
          "base_uri": "https://localhost:8080/"
        },
        "id": "V3DhAr6dQ6nX",
        "outputId": "0518857b-2c33-4cb7-f60b-c2cf97373b5d"
      },
      "execution_count": 74,
      "outputs": [
        {
          "output_type": "stream",
          "name": "stdout",
          "text": [
            "Сумма матрицы и её транспозиции: \n",
            " [[ 2  6 10]\n",
            " [ 6 10 14]\n",
            " [10 14 18]]\n",
            "\n",
            "Матрица симметрична? True\n"
          ]
        }
      ]
    },
    {
      "cell_type": "markdown",
      "source": [
        "4) Мы определяли тензор `X` размерности (2, 3, 4). Что возвращает функция `len(X)`?"
      ],
      "metadata": {
        "id": "uhmWADnLSAgR"
      }
    },
    {
      "cell_type": "code",
      "source": [
        "X = np.zeros((2, 3, 4))\n",
        "length = len(X)\n",
        "\n",
        "print(\"Длина тензора X:\", length)"
      ],
      "metadata": {
        "colab": {
          "base_uri": "https://localhost:8080/"
        },
        "id": "G7-i1zZqSBli",
        "outputId": "310e0344-54af-47fe-b322-9b0a307844b8"
      },
      "execution_count": 78,
      "outputs": [
        {
          "output_type": "stream",
          "name": "stdout",
          "text": [
            "Длина тензора X: 2\n"
          ]
        }
      ]
    },
    {
      "cell_type": "markdown",
      "source": [
        " 5) Запустите следующий фрагмент кода `A / A.sum(axis=1)` и проверьте полученный результат."
      ],
      "metadata": {
        "id": "jQ7h1rVDSRmh"
      }
    },
    {
      "cell_type": "code",
      "source": [
        "result = matrix1 / matrix1.sum(axis=1)\n",
        "print(\"Результат:\", \"\\n\", result)"
      ],
      "metadata": {
        "colab": {
          "base_uri": "https://localhost:8080/"
        },
        "id": "vtSqRchqSR2J",
        "outputId": "ca76d9d2-dbb2-4cb6-b054-3631b0d4872d"
      },
      "execution_count": 83,
      "outputs": [
        {
          "output_type": "stream",
          "name": "stdout",
          "text": [
            "Результат: \n",
            " [[0.16666667 0.13333333 0.125     ]\n",
            " [0.66666667 0.33333333 0.25      ]\n",
            " [1.16666667 0.53333333 0.375     ]]\n"
          ]
        }
      ]
    },
    {
      "cell_type": "markdown",
      "source": [
        "6) Рассмотрим тензор размерности (2, 3, 4). Какие размерности можно получить при суммирования элементов тензора по осям 0, 1 и 2?"
      ],
      "metadata": {
        "id": "_D3oSHfFTDWs"
      }
    },
    {
      "cell_type": "code",
      "source": [
        "sum_axis0 = np.sum(X, axis=0)\n",
        "sum_axis1 = np.sum(X, axis=1)\n",
        "sum_axis2 = np.sum(X, axis=2)\n",
        "print(\"Сумма оси 0:\", sum_axis0.shape)\n",
        "print(\"Сумма оси 1:\", sum_axis1.shape)\n",
        "print(\"Сумма оси 2:\", sum_axis2.shape)"
      ],
      "metadata": {
        "colab": {
          "base_uri": "https://localhost:8080/"
        },
        "id": "eOgTfkqzTDmy",
        "outputId": "04842c5d-411c-4d0d-93a0-4bd81004b9d9"
      },
      "execution_count": 87,
      "outputs": [
        {
          "output_type": "stream",
          "name": "stdout",
          "text": [
            "Сумма оси 0: (3, 4)\n",
            "Сумма оси 1: (2, 4)\n",
            "Сумма оси 2: (2, 3)\n"
          ]
        }
      ]
    },
    {
      "cell_type": "markdown",
      "source": [
        "7) Передайте тензор с 3 или более осями в функцию `linalg.norm` и наблюдайте за его выводом. Что эта функция вычисляет для тензоров произвольной формы?"
      ],
      "metadata": {
        "id": "KHOEAKkFTosp"
      }
    },
    {
      "cell_type": "code",
      "source": [
        "norma = np.linalg.norm(X)\n",
        "print(\"Выход:\", norma)"
      ],
      "metadata": {
        "colab": {
          "base_uri": "https://localhost:8080/"
        },
        "id": "4lmCGw_QTo7N",
        "outputId": "4809cea4-ba2f-4fa8-cb75-ff358d9768b5"
      },
      "execution_count": 91,
      "outputs": [
        {
          "output_type": "stream",
          "name": "stdout",
          "text": [
            "Выход: 0.0\n"
          ]
        }
      ]
    },
    {
      "cell_type": "markdown",
      "source": [
        "Эта функция способна возвращать одну из восьми различных матричных норм или одну из бесконечного числа векторных норм"
      ],
      "metadata": {
        "id": "qbpoWdE2Ujpx"
      }
    },
    {
      "cell_type": "markdown",
      "source": [
        "8) Определите 3 матрицы $\\mathbf{A} \\in \\mathbb{R}^{2^{10} \\times 2^{16}}$, $\\mathbf{B} \\in \\mathbb{R}^{2^{16} \\times 2^{5}}$ и $\\mathbf{C} \\in \\mathbb{R}^{2^{5} \\times 2^{14}}$, содержащие случайные переменные, распределенные по нормальному закону распределения. Вычислите произведение матриц: $\\mathbf{A} \\mathbf{B} \\mathbf{C}$. Есть ли какая-либо разница в объеме памяти и скорости в зависимости от того, вычилсяете Вы $(\\mathbf{A} \\mathbf{B}) \\mathbf{C}$ или $\\mathbf{A} (\\mathbf{B} \\mathbf{C})$?"
      ],
      "metadata": {
        "id": "ZXUgA6RpUkJ0"
      }
    },
    {
      "cell_type": "code",
      "source": [
        "A = np.random.randn(2**10, 2**16)\n",
        "B = np.random.randn(2**16, 2**5)\n",
        "C = np.random.randn(2**5, 2**14)\n",
        "result1 = np.dot(np.dot(A, B), C)  # Вычисление (AB)C\n",
        "result2 = np.dot(A, np.dot(B, C))  # Вычисление A(BC)\n",
        "\n",
        "# Проверка на равенство результатов\n",
        "are_equal = np.allclose(result1, result2)\n",
        "\n",
        "print(\"Размерность результата (AB)C:\", result1.shape)\n",
        "print(\"Размерность результата A(BC):\", result2.shape)\n",
        "print(\"Результаты равны:\", are_equal)\n"
      ],
      "metadata": {
        "colab": {
          "base_uri": "https://localhost:8080/"
        },
        "id": "05RTAknKUw7y",
        "outputId": "efebf2ad-58cb-4378-af0a-b8e1970c9b2e"
      },
      "execution_count": 92,
      "outputs": [
        {
          "output_type": "stream",
          "name": "stdout",
          "text": [
            "Размерность результата (AB)C: (1024, 16384)\n",
            "Размерность результата A(BC): (1024, 16384)\n",
            "Результаты равны: True\n"
          ]
        }
      ]
    },
    {
      "cell_type": "markdown",
      "source": [
        "В ходе работы вычисления $\\mathbf{A} (\\mathbf{B} \\mathbf{C})$ заняло больше времени, чем $(\\mathbf{A} \\mathbf{B}) \\mathbf{C}$.\n",
        "\n",
        "9) Определите 3 матрицы $\\mathbf{A} \\in \\mathbb{R}^{2^{10} \\times 2^{16}}$, $\\mathbf{B} \\in \\mathbb{R}^{2^{16} \\times 2^{5}}$ and $\\mathbf{C} \\in \\mathbb{R}^{2^{5} \\times 2^{16}}$."
      ],
      "metadata": {
        "id": "ct98etf-VFhy"
      }
    },
    {
      "cell_type": "code",
      "source": [
        "rows_A, cols_A = 2**10, 2**16\n",
        "rows_B, cols_B = 2**16, 2**5\n",
        "rows_C, cols_C = 2**5, 2**16\n",
        "\n",
        "# Создаем матрицы A, B и C с случайными значениями\n",
        "A = np.random.rand(rows_A, cols_A)\n",
        "B = np.random.rand(rows_B, cols_B)\n",
        "C = np.random.rand(rows_C, cols_C)\n",
        "\n",
        "AB = np.dot(A, B)\n",
        "AC_T = np.dot(A, C.T)\n",
        "\n",
        "print(\"Размерность матрицы AB:\", AB.shape)\n",
        "print(\"Размерность матрицы AC^T:\", AC_T.shape)"
      ],
      "metadata": {
        "colab": {
          "base_uri": "https://localhost:8080/"
        },
        "id": "mG0oIXOEVse3",
        "outputId": "b9729cd7-ddb3-477d-bde3-f2810014aea2"
      },
      "execution_count": 94,
      "outputs": [
        {
          "output_type": "stream",
          "name": "stdout",
          "text": [
            "Размерность матрицы AB: (1024, 32)\n",
            "Размерность матрицы AC^T: (1024, 32)\n"
          ]
        }
      ]
    },
    {
      "cell_type": "markdown",
      "source": [
        "Определите 3 матрицы $\\mathbf{A}, \\mathbf{B}, \\mathbf{C} \\in \\mathbb{R}^{100 \\times 200}$. Сформируйте тензор с 3-мя осями путем объединения матриц $[\\mathbf{A}, \\mathbf{B}, \\mathbf{C}]$. Какова размерность софрмирвоанного тензора? Вырежьте вторую координату третьей оси, чтобы восстановить $\\mathbf{B}$. Проверьте, что ваш ответ правильный."
      ],
      "metadata": {
        "id": "26_qOaeAWCFE"
      }
    },
    {
      "cell_type": "code",
      "source": [
        "rows, cols = 100, 200\n",
        "\n",
        "A = np.random.rand(rows, cols)\n",
        "B = np.random.rand(rows, cols)\n",
        "C = np.random.rand(rows, cols)\n",
        "tensor = np.stack([A, B, C], axis=2)\n",
        "\n",
        "print(\"Размерность тензора:\", tensor.shape)\n",
        "\n",
        "# Вырезаем вторую координату третьей оси для восстановления матрицы B\n",
        "B2 = tensor[:, :, 1]\n",
        "are_equal = np.allclose(B, B2)\n",
        "print(\"Матрицы B и B2 равны?\", are_equal)\n"
      ],
      "metadata": {
        "colab": {
          "base_uri": "https://localhost:8080/"
        },
        "id": "GB7lk2ChWC0K",
        "outputId": "b803a58e-cd38-4fa9-ab5f-045609703ffd"
      },
      "execution_count": 101,
      "outputs": [
        {
          "output_type": "stream",
          "name": "stdout",
          "text": [
            "Размерность тензора: (100, 200, 3)\n",
            "Матрицы B и B2 равны? True\n"
          ]
        }
      ]
    },
    {
      "cell_type": "markdown",
      "source": [
        "**Задание 4. Работа с данными в фреймворке PyCaret**\n",
        "\n",
        "Выполните следующие задания:\n",
        "* Импортируйте набор данных 'diabetes'\n",
        "* Выполните импорт всех библиотек из модуля classification библиотеки pycaret\n",
        "* Настройте эксперимент, цель - значения столбца 'Class variable'\n",
        "* Выполните поиск наилучшей модели\n",
        "* Определите наиболее значимые признаки  \n",
        "* Выполните графическое построение наилучшей модели\n",
        "\n",
        "Установим pycater"
      ],
      "metadata": {
        "id": "fsvEoOh-Xdo_"
      }
    },
    {
      "cell_type": "code",
      "source": [
        "!pip install pycaret"
      ],
      "metadata": {
        "colab": {
          "base_uri": "https://localhost:8080/",
          "height": 1000
        },
        "id": "D3X1B8LHXp6X",
        "outputId": "49b91871-9cae-47dd-dea4-aff3faf22271"
      },
      "execution_count": 102,
      "outputs": [
        {
          "output_type": "stream",
          "name": "stdout",
          "text": [
            "Collecting pycaret\n",
            "  Downloading pycaret-3.3.2-py3-none-any.whl (486 kB)\n",
            "\u001b[2K     \u001b[90m━━━━━━━━━━━━━━━━━━━━━━━━━━━━━━━━━━━━━━━━\u001b[0m \u001b[32m486.1/486.1 kB\u001b[0m \u001b[31m7.8 MB/s\u001b[0m eta \u001b[36m0:00:00\u001b[0m\n",
            "\u001b[?25hRequirement already satisfied: ipython>=5.5.0 in /usr/local/lib/python3.10/dist-packages (from pycaret) (7.34.0)\n",
            "Requirement already satisfied: ipywidgets>=7.6.5 in /usr/local/lib/python3.10/dist-packages (from pycaret) (7.7.1)\n",
            "Requirement already satisfied: tqdm>=4.62.0 in /usr/local/lib/python3.10/dist-packages (from pycaret) (4.66.4)\n",
            "Requirement already satisfied: numpy<1.27,>=1.21 in /usr/local/lib/python3.10/dist-packages (from pycaret) (1.25.2)\n",
            "Requirement already satisfied: pandas<2.2.0 in /usr/local/lib/python3.10/dist-packages (from pycaret) (2.0.3)\n",
            "Requirement already satisfied: jinja2>=3 in /usr/local/lib/python3.10/dist-packages (from pycaret) (3.1.4)\n",
            "Requirement already satisfied: scipy<=1.11.4,>=1.6.1 in /usr/local/lib/python3.10/dist-packages (from pycaret) (1.11.4)\n",
            "Collecting joblib<1.4,>=1.2.0 (from pycaret)\n",
            "  Downloading joblib-1.3.2-py3-none-any.whl (302 kB)\n",
            "\u001b[2K     \u001b[90m━━━━━━━━━━━━━━━━━━━━━━━━━━━━━━━━━━━━━━━━\u001b[0m \u001b[32m302.2/302.2 kB\u001b[0m \u001b[31m24.9 MB/s\u001b[0m eta \u001b[36m0:00:00\u001b[0m\n",
            "\u001b[?25hCollecting scikit-learn>1.4.0 (from pycaret)\n",
            "  Downloading scikit_learn-1.5.0-cp310-cp310-manylinux_2_17_x86_64.manylinux2014_x86_64.whl (13.3 MB)\n",
            "\u001b[2K     \u001b[90m━━━━━━━━━━━━━━━━━━━━━━━━━━━━━━━━━━━━━━━━\u001b[0m \u001b[32m13.3/13.3 MB\u001b[0m \u001b[31m49.5 MB/s\u001b[0m eta \u001b[36m0:00:00\u001b[0m\n",
            "\u001b[?25hCollecting pyod>=1.1.3 (from pycaret)\n",
            "  Downloading pyod-2.0.1.tar.gz (163 kB)\n",
            "\u001b[2K     \u001b[90m━━━━━━━━━━━━━━━━━━━━━━━━━━━━━━━━━━━━━━━━\u001b[0m \u001b[32m163.8/163.8 kB\u001b[0m \u001b[31m17.7 MB/s\u001b[0m eta \u001b[36m0:00:00\u001b[0m\n",
            "\u001b[?25h  Preparing metadata (setup.py) ... \u001b[?25l\u001b[?25hdone\n",
            "Collecting imbalanced-learn>=0.12.0 (from pycaret)\n",
            "  Downloading imbalanced_learn-0.12.3-py3-none-any.whl (258 kB)\n",
            "\u001b[2K     \u001b[90m━━━━━━━━━━━━━━━━━━━━━━━━━━━━━━━━━━━━━━━━\u001b[0m \u001b[32m258.3/258.3 kB\u001b[0m \u001b[31m22.4 MB/s\u001b[0m eta \u001b[36m0:00:00\u001b[0m\n",
            "\u001b[?25hCollecting category-encoders>=2.4.0 (from pycaret)\n",
            "  Downloading category_encoders-2.6.3-py2.py3-none-any.whl (81 kB)\n",
            "\u001b[2K     \u001b[90m━━━━━━━━━━━━━━━━━━━━━━━━━━━━━━━━━━━━━━━━\u001b[0m \u001b[32m81.9/81.9 kB\u001b[0m \u001b[31m8.3 MB/s\u001b[0m eta \u001b[36m0:00:00\u001b[0m\n",
            "\u001b[?25hRequirement already satisfied: lightgbm>=3.0.0 in /usr/local/lib/python3.10/dist-packages (from pycaret) (4.1.0)\n",
            "Requirement already satisfied: numba>=0.55.0 in /usr/local/lib/python3.10/dist-packages (from pycaret) (0.58.1)\n",
            "Requirement already satisfied: requests>=2.27.1 in /usr/local/lib/python3.10/dist-packages (from pycaret) (2.31.0)\n",
            "Requirement already satisfied: psutil>=5.9.0 in /usr/local/lib/python3.10/dist-packages (from pycaret) (5.9.5)\n",
            "Requirement already satisfied: markupsafe>=2.0.1 in /usr/local/lib/python3.10/dist-packages (from pycaret) (2.1.5)\n",
            "Requirement already satisfied: importlib-metadata>=4.12.0 in /usr/local/lib/python3.10/dist-packages (from pycaret) (7.2.0)\n",
            "Requirement already satisfied: nbformat>=4.2.0 in /usr/local/lib/python3.10/dist-packages (from pycaret) (5.10.4)\n",
            "Requirement already satisfied: cloudpickle in /usr/local/lib/python3.10/dist-packages (from pycaret) (2.2.1)\n",
            "Collecting deprecation>=2.1.0 (from pycaret)\n",
            "  Downloading deprecation-2.1.0-py2.py3-none-any.whl (11 kB)\n",
            "Collecting xxhash (from pycaret)\n",
            "  Downloading xxhash-3.4.1-cp310-cp310-manylinux_2_17_x86_64.manylinux2014_x86_64.whl (194 kB)\n",
            "\u001b[2K     \u001b[90m━━━━━━━━━━━━━━━━━━━━━━━━━━━━━━━━━━━━━━━━\u001b[0m \u001b[32m194.1/194.1 kB\u001b[0m \u001b[31m17.3 MB/s\u001b[0m eta \u001b[36m0:00:00\u001b[0m\n",
            "\u001b[?25hRequirement already satisfied: matplotlib<3.8.0 in /usr/local/lib/python3.10/dist-packages (from pycaret) (3.7.1)\n",
            "Collecting scikit-plot>=0.3.7 (from pycaret)\n",
            "  Downloading scikit_plot-0.3.7-py3-none-any.whl (33 kB)\n",
            "Requirement already satisfied: yellowbrick>=1.4 in /usr/local/lib/python3.10/dist-packages (from pycaret) (1.5)\n",
            "Requirement already satisfied: plotly>=5.14.0 in /usr/local/lib/python3.10/dist-packages (from pycaret) (5.15.0)\n",
            "Collecting kaleido>=0.2.1 (from pycaret)\n",
            "  Downloading kaleido-0.2.1-py2.py3-none-manylinux1_x86_64.whl (79.9 MB)\n",
            "\u001b[2K     \u001b[90m━━━━━━━━━━━━━━━━━━━━━━━━━━━━━━━━━━━━━━━━\u001b[0m \u001b[32m79.9/79.9 MB\u001b[0m \u001b[31m7.8 MB/s\u001b[0m eta \u001b[36m0:00:00\u001b[0m\n",
            "\u001b[?25hCollecting schemdraw==0.15 (from pycaret)\n",
            "  Downloading schemdraw-0.15-py3-none-any.whl (106 kB)\n",
            "\u001b[2K     \u001b[90m━━━━━━━━━━━━━━━━━━━━━━━━━━━━━━━━━━━━━━━━\u001b[0m \u001b[32m106.8/106.8 kB\u001b[0m \u001b[31m10.2 MB/s\u001b[0m eta \u001b[36m0:00:00\u001b[0m\n",
            "\u001b[?25hCollecting plotly-resampler>=0.8.3.1 (from pycaret)\n",
            "  Downloading plotly_resampler-0.10.0-py3-none-any.whl (80 kB)\n",
            "\u001b[2K     \u001b[90m━━━━━━━━━━━━━━━━━━━━━━━━━━━━━━━━━━━━━━━━\u001b[0m \u001b[32m80.7/80.7 kB\u001b[0m \u001b[31m5.9 MB/s\u001b[0m eta \u001b[36m0:00:00\u001b[0m\n",
            "\u001b[?25hRequirement already satisfied: statsmodels>=0.12.1 in /usr/local/lib/python3.10/dist-packages (from pycaret) (0.14.2)\n",
            "Collecting sktime==0.26.0 (from pycaret)\n",
            "  Downloading sktime-0.26.0-py3-none-any.whl (21.8 MB)\n",
            "\u001b[2K     \u001b[90m━━━━━━━━━━━━━━━━━━━━━━━━━━━━━━━━━━━━━━━━\u001b[0m \u001b[32m21.8/21.8 MB\u001b[0m \u001b[31m30.1 MB/s\u001b[0m eta \u001b[36m0:00:00\u001b[0m\n",
            "\u001b[?25hCollecting tbats>=1.1.3 (from pycaret)\n",
            "  Downloading tbats-1.1.3-py3-none-any.whl (44 kB)\n",
            "\u001b[2K     \u001b[90m━━━━━━━━━━━━━━━━━━━━━━━━━━━━━━━━━━━━━━━━\u001b[0m \u001b[32m44.0/44.0 kB\u001b[0m \u001b[31m5.1 MB/s\u001b[0m eta \u001b[36m0:00:00\u001b[0m\n",
            "\u001b[?25hCollecting pmdarima>=2.0.4 (from pycaret)\n",
            "  Downloading pmdarima-2.0.4-cp310-cp310-manylinux_2_17_x86_64.manylinux2014_x86_64.manylinux_2_28_x86_64.whl (2.1 MB)\n",
            "\u001b[2K     \u001b[90m━━━━━━━━━━━━━━━━━━━━━━━━━━━━━━━━━━━━━━━━\u001b[0m \u001b[32m2.1/2.1 MB\u001b[0m \u001b[31m51.2 MB/s\u001b[0m eta \u001b[36m0:00:00\u001b[0m\n",
            "\u001b[?25hCollecting wurlitzer (from pycaret)\n",
            "  Downloading wurlitzer-3.1.1-py3-none-any.whl (8.6 kB)\n",
            "Requirement already satisfied: packaging in /usr/local/lib/python3.10/dist-packages (from sktime==0.26.0->pycaret) (24.1)\n",
            "Collecting scikit-base<0.8.0 (from sktime==0.26.0->pycaret)\n",
            "  Downloading scikit_base-0.7.8-py3-none-any.whl (130 kB)\n",
            "\u001b[2K     \u001b[90m━━━━━━━━━━━━━━━━━━━━━━━━━━━━━━━━━━━━━━━━\u001b[0m \u001b[32m130.1/130.1 kB\u001b[0m \u001b[31m12.4 MB/s\u001b[0m eta \u001b[36m0:00:00\u001b[0m\n",
            "\u001b[?25hCollecting scikit-learn>1.4.0 (from pycaret)\n",
            "  Downloading scikit_learn-1.4.2-cp310-cp310-manylinux_2_17_x86_64.manylinux2014_x86_64.whl (12.1 MB)\n",
            "\u001b[2K     \u001b[90m━━━━━━━━━━━━━━━━━━━━━━━━━━━━━━━━━━━━━━━━\u001b[0m \u001b[32m12.1/12.1 MB\u001b[0m \u001b[31m54.9 MB/s\u001b[0m eta \u001b[36m0:00:00\u001b[0m\n",
            "\u001b[?25hRequirement already satisfied: patsy>=0.5.1 in /usr/local/lib/python3.10/dist-packages (from category-encoders>=2.4.0->pycaret) (0.5.6)\n",
            "Requirement already satisfied: threadpoolctl>=2.0.0 in /usr/local/lib/python3.10/dist-packages (from imbalanced-learn>=0.12.0->pycaret) (3.5.0)\n",
            "Requirement already satisfied: zipp>=0.5 in /usr/local/lib/python3.10/dist-packages (from importlib-metadata>=4.12.0->pycaret) (3.19.2)\n",
            "Requirement already satisfied: setuptools>=18.5 in /usr/local/lib/python3.10/dist-packages (from ipython>=5.5.0->pycaret) (67.7.2)\n",
            "Collecting jedi>=0.16 (from ipython>=5.5.0->pycaret)\n",
            "  Downloading jedi-0.19.1-py2.py3-none-any.whl (1.6 MB)\n",
            "\u001b[2K     \u001b[90m━━━━━━━━━━━━━━━━━━━━━━━━━━━━━━━━━━━━━━━━\u001b[0m \u001b[32m1.6/1.6 MB\u001b[0m \u001b[31m71.0 MB/s\u001b[0m eta \u001b[36m0:00:00\u001b[0m\n",
            "\u001b[?25hRequirement already satisfied: decorator in /usr/local/lib/python3.10/dist-packages (from ipython>=5.5.0->pycaret) (4.4.2)\n",
            "Requirement already satisfied: pickleshare in /usr/local/lib/python3.10/dist-packages (from ipython>=5.5.0->pycaret) (0.7.5)\n",
            "Requirement already satisfied: traitlets>=4.2 in /usr/local/lib/python3.10/dist-packages (from ipython>=5.5.0->pycaret) (5.7.1)\n",
            "Requirement already satisfied: prompt-toolkit!=3.0.0,!=3.0.1,<3.1.0,>=2.0.0 in /usr/local/lib/python3.10/dist-packages (from ipython>=5.5.0->pycaret) (3.0.47)\n",
            "Requirement already satisfied: pygments in /usr/local/lib/python3.10/dist-packages (from ipython>=5.5.0->pycaret) (2.16.1)\n",
            "Requirement already satisfied: backcall in /usr/local/lib/python3.10/dist-packages (from ipython>=5.5.0->pycaret) (0.2.0)\n",
            "Requirement already satisfied: matplotlib-inline in /usr/local/lib/python3.10/dist-packages (from ipython>=5.5.0->pycaret) (0.1.7)\n",
            "Requirement already satisfied: pexpect>4.3 in /usr/local/lib/python3.10/dist-packages (from ipython>=5.5.0->pycaret) (4.9.0)\n",
            "Requirement already satisfied: ipykernel>=4.5.1 in /usr/local/lib/python3.10/dist-packages (from ipywidgets>=7.6.5->pycaret) (5.5.6)\n",
            "Requirement already satisfied: ipython-genutils~=0.2.0 in /usr/local/lib/python3.10/dist-packages (from ipywidgets>=7.6.5->pycaret) (0.2.0)\n",
            "Requirement already satisfied: widgetsnbextension~=3.6.0 in /usr/local/lib/python3.10/dist-packages (from ipywidgets>=7.6.5->pycaret) (3.6.6)\n",
            "Requirement already satisfied: jupyterlab-widgets>=1.0.0 in /usr/local/lib/python3.10/dist-packages (from ipywidgets>=7.6.5->pycaret) (3.0.11)\n",
            "Requirement already satisfied: contourpy>=1.0.1 in /usr/local/lib/python3.10/dist-packages (from matplotlib<3.8.0->pycaret) (1.2.1)\n",
            "Requirement already satisfied: cycler>=0.10 in /usr/local/lib/python3.10/dist-packages (from matplotlib<3.8.0->pycaret) (0.12.1)\n",
            "Requirement already satisfied: fonttools>=4.22.0 in /usr/local/lib/python3.10/dist-packages (from matplotlib<3.8.0->pycaret) (4.53.0)\n",
            "Requirement already satisfied: kiwisolver>=1.0.1 in /usr/local/lib/python3.10/dist-packages (from matplotlib<3.8.0->pycaret) (1.4.5)\n",
            "Requirement already satisfied: pillow>=6.2.0 in /usr/local/lib/python3.10/dist-packages (from matplotlib<3.8.0->pycaret) (9.4.0)\n",
            "Requirement already satisfied: pyparsing>=2.3.1 in /usr/local/lib/python3.10/dist-packages (from matplotlib<3.8.0->pycaret) (3.1.2)\n",
            "Requirement already satisfied: python-dateutil>=2.7 in /usr/local/lib/python3.10/dist-packages (from matplotlib<3.8.0->pycaret) (2.8.2)\n",
            "Requirement already satisfied: fastjsonschema>=2.15 in /usr/local/lib/python3.10/dist-packages (from nbformat>=4.2.0->pycaret) (2.20.0)\n",
            "Requirement already satisfied: jsonschema>=2.6 in /usr/local/lib/python3.10/dist-packages (from nbformat>=4.2.0->pycaret) (4.19.2)\n",
            "Requirement already satisfied: jupyter-core!=5.0.*,>=4.12 in /usr/local/lib/python3.10/dist-packages (from nbformat>=4.2.0->pycaret) (5.7.2)\n",
            "Requirement already satisfied: llvmlite<0.42,>=0.41.0dev0 in /usr/local/lib/python3.10/dist-packages (from numba>=0.55.0->pycaret) (0.41.1)\n",
            "Requirement already satisfied: pytz>=2020.1 in /usr/local/lib/python3.10/dist-packages (from pandas<2.2.0->pycaret) (2023.4)\n",
            "Requirement already satisfied: tzdata>=2022.1 in /usr/local/lib/python3.10/dist-packages (from pandas<2.2.0->pycaret) (2024.1)\n",
            "Requirement already satisfied: tenacity>=6.2.0 in /usr/local/lib/python3.10/dist-packages (from plotly>=5.14.0->pycaret) (8.4.1)\n",
            "Collecting dash>=2.9.0 (from plotly-resampler>=0.8.3.1->pycaret)\n",
            "  Downloading dash-2.17.1-py3-none-any.whl (7.5 MB)\n",
            "\u001b[2K     \u001b[90m━━━━━━━━━━━━━━━━━━━━━━━━━━━━━━━━━━━━━━━━\u001b[0m \u001b[32m7.5/7.5 MB\u001b[0m \u001b[31m93.1 MB/s\u001b[0m eta \u001b[36m0:00:00\u001b[0m\n",
            "\u001b[?25hCollecting orjson<4.0.0,>=3.8.0 (from plotly-resampler>=0.8.3.1->pycaret)\n",
            "  Downloading orjson-3.10.5-cp310-cp310-manylinux_2_17_x86_64.manylinux2014_x86_64.whl (144 kB)\n",
            "\u001b[2K     \u001b[90m━━━━━━━━━━━━━━━━━━━━━━━━━━━━━━━━━━━━━━━━\u001b[0m \u001b[32m145.0/145.0 kB\u001b[0m \u001b[31m14.1 MB/s\u001b[0m eta \u001b[36m0:00:00\u001b[0m\n",
            "\u001b[?25hCollecting tsdownsample>=0.1.3 (from plotly-resampler>=0.8.3.1->pycaret)\n",
            "  Downloading tsdownsample-0.1.3-cp310-cp310-manylinux_2_17_x86_64.manylinux2014_x86_64.whl (2.1 MB)\n",
            "\u001b[2K     \u001b[90m━━━━━━━━━━━━━━━━━━━━━━━━━━━━━━━━━━━━━━━━\u001b[0m \u001b[32m2.1/2.1 MB\u001b[0m \u001b[31m73.1 MB/s\u001b[0m eta \u001b[36m0:00:00\u001b[0m\n",
            "\u001b[?25hRequirement already satisfied: Cython!=0.29.18,!=0.29.31,>=0.29 in /usr/local/lib/python3.10/dist-packages (from pmdarima>=2.0.4->pycaret) (3.0.10)\n",
            "Requirement already satisfied: urllib3 in /usr/local/lib/python3.10/dist-packages (from pmdarima>=2.0.4->pycaret) (2.0.7)\n",
            "Requirement already satisfied: charset-normalizer<4,>=2 in /usr/local/lib/python3.10/dist-packages (from requests>=2.27.1->pycaret) (3.3.2)\n",
            "Requirement already satisfied: idna<4,>=2.5 in /usr/local/lib/python3.10/dist-packages (from requests>=2.27.1->pycaret) (3.7)\n",
            "Requirement already satisfied: certifi>=2017.4.17 in /usr/local/lib/python3.10/dist-packages (from requests>=2.27.1->pycaret) (2024.6.2)\n",
            "Requirement already satisfied: Flask<3.1,>=1.0.4 in /usr/local/lib/python3.10/dist-packages (from dash>=2.9.0->plotly-resampler>=0.8.3.1->pycaret) (2.2.5)\n",
            "Requirement already satisfied: Werkzeug<3.1 in /usr/local/lib/python3.10/dist-packages (from dash>=2.9.0->plotly-resampler>=0.8.3.1->pycaret) (3.0.3)\n",
            "Collecting dash-html-components==2.0.0 (from dash>=2.9.0->plotly-resampler>=0.8.3.1->pycaret)\n",
            "  Downloading dash_html_components-2.0.0-py3-none-any.whl (4.1 kB)\n",
            "Collecting dash-core-components==2.0.0 (from dash>=2.9.0->plotly-resampler>=0.8.3.1->pycaret)\n",
            "  Downloading dash_core_components-2.0.0-py3-none-any.whl (3.8 kB)\n",
            "Collecting dash-table==5.0.0 (from dash>=2.9.0->plotly-resampler>=0.8.3.1->pycaret)\n",
            "  Downloading dash_table-5.0.0-py3-none-any.whl (3.9 kB)\n",
            "Requirement already satisfied: typing-extensions>=4.1.1 in /usr/local/lib/python3.10/dist-packages (from dash>=2.9.0->plotly-resampler>=0.8.3.1->pycaret) (4.12.2)\n",
            "Collecting retrying (from dash>=2.9.0->plotly-resampler>=0.8.3.1->pycaret)\n",
            "  Downloading retrying-1.3.4-py3-none-any.whl (11 kB)\n",
            "Requirement already satisfied: nest-asyncio in /usr/local/lib/python3.10/dist-packages (from dash>=2.9.0->plotly-resampler>=0.8.3.1->pycaret) (1.6.0)\n",
            "Requirement already satisfied: jupyter-client in /usr/local/lib/python3.10/dist-packages (from ipykernel>=4.5.1->ipywidgets>=7.6.5->pycaret) (6.1.12)\n",
            "Requirement already satisfied: tornado>=4.2 in /usr/local/lib/python3.10/dist-packages (from ipykernel>=4.5.1->ipywidgets>=7.6.5->pycaret) (6.3.3)\n",
            "Requirement already satisfied: parso<0.9.0,>=0.8.3 in /usr/local/lib/python3.10/dist-packages (from jedi>=0.16->ipython>=5.5.0->pycaret) (0.8.4)\n",
            "Requirement already satisfied: attrs>=22.2.0 in /usr/local/lib/python3.10/dist-packages (from jsonschema>=2.6->nbformat>=4.2.0->pycaret) (23.2.0)\n",
            "Requirement already satisfied: jsonschema-specifications>=2023.03.6 in /usr/local/lib/python3.10/dist-packages (from jsonschema>=2.6->nbformat>=4.2.0->pycaret) (2023.12.1)\n",
            "Requirement already satisfied: referencing>=0.28.4 in /usr/local/lib/python3.10/dist-packages (from jsonschema>=2.6->nbformat>=4.2.0->pycaret) (0.35.1)\n",
            "Requirement already satisfied: rpds-py>=0.7.1 in /usr/local/lib/python3.10/dist-packages (from jsonschema>=2.6->nbformat>=4.2.0->pycaret) (0.18.1)\n",
            "Requirement already satisfied: platformdirs>=2.5 in /usr/local/lib/python3.10/dist-packages (from jupyter-core!=5.0.*,>=4.12->nbformat>=4.2.0->pycaret) (4.2.2)\n",
            "Requirement already satisfied: six in /usr/local/lib/python3.10/dist-packages (from patsy>=0.5.1->category-encoders>=2.4.0->pycaret) (1.16.0)\n",
            "Requirement already satisfied: ptyprocess>=0.5 in /usr/local/lib/python3.10/dist-packages (from pexpect>4.3->ipython>=5.5.0->pycaret) (0.7.0)\n",
            "Requirement already satisfied: wcwidth in /usr/local/lib/python3.10/dist-packages (from prompt-toolkit!=3.0.0,!=3.0.1,<3.1.0,>=2.0.0->ipython>=5.5.0->pycaret) (0.2.13)\n",
            "Requirement already satisfied: notebook>=4.4.1 in /usr/local/lib/python3.10/dist-packages (from widgetsnbextension~=3.6.0->ipywidgets>=7.6.5->pycaret) (6.5.5)\n",
            "Requirement already satisfied: itsdangerous>=2.0 in /usr/local/lib/python3.10/dist-packages (from Flask<3.1,>=1.0.4->dash>=2.9.0->plotly-resampler>=0.8.3.1->pycaret) (2.2.0)\n",
            "Requirement already satisfied: click>=8.0 in /usr/local/lib/python3.10/dist-packages (from Flask<3.1,>=1.0.4->dash>=2.9.0->plotly-resampler>=0.8.3.1->pycaret) (8.1.7)\n",
            "Requirement already satisfied: pyzmq<25,>=17 in /usr/local/lib/python3.10/dist-packages (from notebook>=4.4.1->widgetsnbextension~=3.6.0->ipywidgets>=7.6.5->pycaret) (24.0.1)\n",
            "Requirement already satisfied: argon2-cffi in /usr/local/lib/python3.10/dist-packages (from notebook>=4.4.1->widgetsnbextension~=3.6.0->ipywidgets>=7.6.5->pycaret) (23.1.0)\n",
            "Requirement already satisfied: nbconvert>=5 in /usr/local/lib/python3.10/dist-packages (from notebook>=4.4.1->widgetsnbextension~=3.6.0->ipywidgets>=7.6.5->pycaret) (6.5.4)\n",
            "Requirement already satisfied: Send2Trash>=1.8.0 in /usr/local/lib/python3.10/dist-packages (from notebook>=4.4.1->widgetsnbextension~=3.6.0->ipywidgets>=7.6.5->pycaret) (1.8.3)\n",
            "Requirement already satisfied: terminado>=0.8.3 in /usr/local/lib/python3.10/dist-packages (from notebook>=4.4.1->widgetsnbextension~=3.6.0->ipywidgets>=7.6.5->pycaret) (0.18.1)\n",
            "Requirement already satisfied: prometheus-client in /usr/local/lib/python3.10/dist-packages (from notebook>=4.4.1->widgetsnbextension~=3.6.0->ipywidgets>=7.6.5->pycaret) (0.20.0)\n",
            "Requirement already satisfied: nbclassic>=0.4.7 in /usr/local/lib/python3.10/dist-packages (from notebook>=4.4.1->widgetsnbextension~=3.6.0->ipywidgets>=7.6.5->pycaret) (1.1.0)\n",
            "Requirement already satisfied: notebook-shim>=0.2.3 in /usr/local/lib/python3.10/dist-packages (from nbclassic>=0.4.7->notebook>=4.4.1->widgetsnbextension~=3.6.0->ipywidgets>=7.6.5->pycaret) (0.2.4)\n",
            "Requirement already satisfied: lxml in /usr/local/lib/python3.10/dist-packages (from nbconvert>=5->notebook>=4.4.1->widgetsnbextension~=3.6.0->ipywidgets>=7.6.5->pycaret) (4.9.4)\n",
            "Requirement already satisfied: beautifulsoup4 in /usr/local/lib/python3.10/dist-packages (from nbconvert>=5->notebook>=4.4.1->widgetsnbextension~=3.6.0->ipywidgets>=7.6.5->pycaret) (4.12.3)\n",
            "Requirement already satisfied: bleach in /usr/local/lib/python3.10/dist-packages (from nbconvert>=5->notebook>=4.4.1->widgetsnbextension~=3.6.0->ipywidgets>=7.6.5->pycaret) (6.1.0)\n",
            "Requirement already satisfied: defusedxml in /usr/local/lib/python3.10/dist-packages (from nbconvert>=5->notebook>=4.4.1->widgetsnbextension~=3.6.0->ipywidgets>=7.6.5->pycaret) (0.7.1)\n",
            "Requirement already satisfied: entrypoints>=0.2.2 in /usr/local/lib/python3.10/dist-packages (from nbconvert>=5->notebook>=4.4.1->widgetsnbextension~=3.6.0->ipywidgets>=7.6.5->pycaret) (0.4)\n",
            "Requirement already satisfied: jupyterlab-pygments in /usr/local/lib/python3.10/dist-packages (from nbconvert>=5->notebook>=4.4.1->widgetsnbextension~=3.6.0->ipywidgets>=7.6.5->pycaret) (0.3.0)\n",
            "Requirement already satisfied: mistune<2,>=0.8.1 in /usr/local/lib/python3.10/dist-packages (from nbconvert>=5->notebook>=4.4.1->widgetsnbextension~=3.6.0->ipywidgets>=7.6.5->pycaret) (0.8.4)\n",
            "Requirement already satisfied: nbclient>=0.5.0 in /usr/local/lib/python3.10/dist-packages (from nbconvert>=5->notebook>=4.4.1->widgetsnbextension~=3.6.0->ipywidgets>=7.6.5->pycaret) (0.10.0)\n",
            "Requirement already satisfied: pandocfilters>=1.4.1 in /usr/local/lib/python3.10/dist-packages (from nbconvert>=5->notebook>=4.4.1->widgetsnbextension~=3.6.0->ipywidgets>=7.6.5->pycaret) (1.5.1)\n",
            "Requirement already satisfied: tinycss2 in /usr/local/lib/python3.10/dist-packages (from nbconvert>=5->notebook>=4.4.1->widgetsnbextension~=3.6.0->ipywidgets>=7.6.5->pycaret) (1.3.0)\n",
            "Requirement already satisfied: argon2-cffi-bindings in /usr/local/lib/python3.10/dist-packages (from argon2-cffi->notebook>=4.4.1->widgetsnbextension~=3.6.0->ipywidgets>=7.6.5->pycaret) (21.2.0)\n",
            "Requirement already satisfied: jupyter-server<3,>=1.8 in /usr/local/lib/python3.10/dist-packages (from notebook-shim>=0.2.3->nbclassic>=0.4.7->notebook>=4.4.1->widgetsnbextension~=3.6.0->ipywidgets>=7.6.5->pycaret) (1.24.0)\n",
            "Requirement already satisfied: cffi>=1.0.1 in /usr/local/lib/python3.10/dist-packages (from argon2-cffi-bindings->argon2-cffi->notebook>=4.4.1->widgetsnbextension~=3.6.0->ipywidgets>=7.6.5->pycaret) (1.16.0)\n",
            "Requirement already satisfied: soupsieve>1.2 in /usr/local/lib/python3.10/dist-packages (from beautifulsoup4->nbconvert>=5->notebook>=4.4.1->widgetsnbextension~=3.6.0->ipywidgets>=7.6.5->pycaret) (2.5)\n",
            "Requirement already satisfied: webencodings in /usr/local/lib/python3.10/dist-packages (from bleach->nbconvert>=5->notebook>=4.4.1->widgetsnbextension~=3.6.0->ipywidgets>=7.6.5->pycaret) (0.5.1)\n",
            "Requirement already satisfied: pycparser in /usr/local/lib/python3.10/dist-packages (from cffi>=1.0.1->argon2-cffi-bindings->argon2-cffi->notebook>=4.4.1->widgetsnbextension~=3.6.0->ipywidgets>=7.6.5->pycaret) (2.22)\n",
            "Requirement already satisfied: anyio<4,>=3.1.0 in /usr/local/lib/python3.10/dist-packages (from jupyter-server<3,>=1.8->notebook-shim>=0.2.3->nbclassic>=0.4.7->notebook>=4.4.1->widgetsnbextension~=3.6.0->ipywidgets>=7.6.5->pycaret) (3.7.1)\n",
            "Requirement already satisfied: websocket-client in /usr/local/lib/python3.10/dist-packages (from jupyter-server<3,>=1.8->notebook-shim>=0.2.3->nbclassic>=0.4.7->notebook>=4.4.1->widgetsnbextension~=3.6.0->ipywidgets>=7.6.5->pycaret) (1.8.0)\n",
            "Requirement already satisfied: sniffio>=1.1 in /usr/local/lib/python3.10/dist-packages (from anyio<4,>=3.1.0->jupyter-server<3,>=1.8->notebook-shim>=0.2.3->nbclassic>=0.4.7->notebook>=4.4.1->widgetsnbextension~=3.6.0->ipywidgets>=7.6.5->pycaret) (1.3.1)\n",
            "Requirement already satisfied: exceptiongroup in /usr/local/lib/python3.10/dist-packages (from anyio<4,>=3.1.0->jupyter-server<3,>=1.8->notebook-shim>=0.2.3->nbclassic>=0.4.7->notebook>=4.4.1->widgetsnbextension~=3.6.0->ipywidgets>=7.6.5->pycaret) (1.2.1)\n",
            "Building wheels for collected packages: pyod\n",
            "  Building wheel for pyod (setup.py) ... \u001b[?25l\u001b[?25hdone\n",
            "  Created wheel for pyod: filename=pyod-2.0.1-py3-none-any.whl size=193267 sha256=42df8062501aac87a90cc4ef89adbf4287051345cbb2f20061188245d6c044b2\n",
            "  Stored in directory: /root/.cache/pip/wheels/94/75/88/b853cf33b0053b0a001dca55b74d515048b7656e736364eb57\n",
            "Successfully built pyod\n",
            "Installing collected packages: kaleido, dash-table, dash-html-components, dash-core-components, xxhash, wurlitzer, tsdownsample, scikit-base, schemdraw, retrying, orjson, joblib, jedi, deprecation, scikit-learn, sktime, scikit-plot, pyod, imbalanced-learn, dash, pmdarima, plotly-resampler, category-encoders, tbats, pycaret\n",
            "  Attempting uninstall: joblib\n",
            "    Found existing installation: joblib 1.4.2\n",
            "    Uninstalling joblib-1.4.2:\n",
            "      Successfully uninstalled joblib-1.4.2\n",
            "  Attempting uninstall: scikit-learn\n",
            "    Found existing installation: scikit-learn 1.2.2\n",
            "    Uninstalling scikit-learn-1.2.2:\n",
            "      Successfully uninstalled scikit-learn-1.2.2\n",
            "  Attempting uninstall: imbalanced-learn\n",
            "    Found existing installation: imbalanced-learn 0.10.1\n",
            "    Uninstalling imbalanced-learn-0.10.1:\n",
            "      Successfully uninstalled imbalanced-learn-0.10.1\n",
            "Successfully installed category-encoders-2.6.3 dash-2.17.1 dash-core-components-2.0.0 dash-html-components-2.0.0 dash-table-5.0.0 deprecation-2.1.0 imbalanced-learn-0.12.3 jedi-0.19.1 joblib-1.3.2 kaleido-0.2.1 orjson-3.10.5 plotly-resampler-0.10.0 pmdarima-2.0.4 pycaret-3.3.2 pyod-2.0.1 retrying-1.3.4 schemdraw-0.15 scikit-base-0.7.8 scikit-learn-1.4.2 scikit-plot-0.3.7 sktime-0.26.0 tbats-1.1.3 tsdownsample-0.1.3 wurlitzer-3.1.1 xxhash-3.4.1\n"
          ]
        },
        {
          "output_type": "display_data",
          "data": {
            "application/vnd.colab-display-data+json": {
              "pip_warning": {
                "packages": [
                  "joblib",
                  "sklearn"
                ]
              },
              "id": "199e5f04a5dc4a6fb976e95943d58834"
            }
          },
          "metadata": {}
        }
      ]
    },
    {
      "cell_type": "markdown",
      "source": [
        "Импортируем необходимые библиотеки и набор данных из PyCaret"
      ],
      "metadata": {
        "id": "LC3dpO3JYJ6c"
      }
    },
    {
      "cell_type": "code",
      "source": [
        "from pycaret.datasets import get_data\n",
        "from pycaret.classification import *\n",
        "\n",
        "data_diabetes = get_data('diabetes')"
      ],
      "metadata": {
        "colab": {
          "base_uri": "https://localhost:8080/",
          "height": 276
        },
        "id": "RZ6QDRsTYKX8",
        "outputId": "edfc15f1-4bf8-45dc-9a8d-ed4b371e319c"
      },
      "execution_count": 2,
      "outputs": [
        {
          "output_type": "display_data",
          "data": {
            "text/plain": [
              "   Number of times pregnant  \\\n",
              "0                         6   \n",
              "1                         1   \n",
              "2                         8   \n",
              "3                         1   \n",
              "4                         0   \n",
              "\n",
              "   Plasma glucose concentration a 2 hours in an oral glucose tolerance test  \\\n",
              "0                                                148                          \n",
              "1                                                 85                          \n",
              "2                                                183                          \n",
              "3                                                 89                          \n",
              "4                                                137                          \n",
              "\n",
              "   Diastolic blood pressure (mm Hg)  Triceps skin fold thickness (mm)  \\\n",
              "0                                72                                35   \n",
              "1                                66                                29   \n",
              "2                                64                                 0   \n",
              "3                                66                                23   \n",
              "4                                40                                35   \n",
              "\n",
              "   2-Hour serum insulin (mu U/ml)  \\\n",
              "0                               0   \n",
              "1                               0   \n",
              "2                               0   \n",
              "3                              94   \n",
              "4                             168   \n",
              "\n",
              "   Body mass index (weight in kg/(height in m)^2)  Diabetes pedigree function  \\\n",
              "0                                            33.6                       0.627   \n",
              "1                                            26.6                       0.351   \n",
              "2                                            23.3                       0.672   \n",
              "3                                            28.1                       0.167   \n",
              "4                                            43.1                       2.288   \n",
              "\n",
              "   Age (years)  Class variable  \n",
              "0           50               1  \n",
              "1           31               0  \n",
              "2           32               1  \n",
              "3           21               0  \n",
              "4           33               1  "
            ],
            "text/html": [
              "\n",
              "  <div id=\"df-b3cf7d01-c3ce-4124-abf8-5b5f4d0e0b49\" class=\"colab-df-container\">\n",
              "    <div>\n",
              "<style scoped>\n",
              "    .dataframe tbody tr th:only-of-type {\n",
              "        vertical-align: middle;\n",
              "    }\n",
              "\n",
              "    .dataframe tbody tr th {\n",
              "        vertical-align: top;\n",
              "    }\n",
              "\n",
              "    .dataframe thead th {\n",
              "        text-align: right;\n",
              "    }\n",
              "</style>\n",
              "<table border=\"1\" class=\"dataframe\">\n",
              "  <thead>\n",
              "    <tr style=\"text-align: right;\">\n",
              "      <th></th>\n",
              "      <th>Number of times pregnant</th>\n",
              "      <th>Plasma glucose concentration a 2 hours in an oral glucose tolerance test</th>\n",
              "      <th>Diastolic blood pressure (mm Hg)</th>\n",
              "      <th>Triceps skin fold thickness (mm)</th>\n",
              "      <th>2-Hour serum insulin (mu U/ml)</th>\n",
              "      <th>Body mass index (weight in kg/(height in m)^2)</th>\n",
              "      <th>Diabetes pedigree function</th>\n",
              "      <th>Age (years)</th>\n",
              "      <th>Class variable</th>\n",
              "    </tr>\n",
              "  </thead>\n",
              "  <tbody>\n",
              "    <tr>\n",
              "      <th>0</th>\n",
              "      <td>6</td>\n",
              "      <td>148</td>\n",
              "      <td>72</td>\n",
              "      <td>35</td>\n",
              "      <td>0</td>\n",
              "      <td>33.6</td>\n",
              "      <td>0.627</td>\n",
              "      <td>50</td>\n",
              "      <td>1</td>\n",
              "    </tr>\n",
              "    <tr>\n",
              "      <th>1</th>\n",
              "      <td>1</td>\n",
              "      <td>85</td>\n",
              "      <td>66</td>\n",
              "      <td>29</td>\n",
              "      <td>0</td>\n",
              "      <td>26.6</td>\n",
              "      <td>0.351</td>\n",
              "      <td>31</td>\n",
              "      <td>0</td>\n",
              "    </tr>\n",
              "    <tr>\n",
              "      <th>2</th>\n",
              "      <td>8</td>\n",
              "      <td>183</td>\n",
              "      <td>64</td>\n",
              "      <td>0</td>\n",
              "      <td>0</td>\n",
              "      <td>23.3</td>\n",
              "      <td>0.672</td>\n",
              "      <td>32</td>\n",
              "      <td>1</td>\n",
              "    </tr>\n",
              "    <tr>\n",
              "      <th>3</th>\n",
              "      <td>1</td>\n",
              "      <td>89</td>\n",
              "      <td>66</td>\n",
              "      <td>23</td>\n",
              "      <td>94</td>\n",
              "      <td>28.1</td>\n",
              "      <td>0.167</td>\n",
              "      <td>21</td>\n",
              "      <td>0</td>\n",
              "    </tr>\n",
              "    <tr>\n",
              "      <th>4</th>\n",
              "      <td>0</td>\n",
              "      <td>137</td>\n",
              "      <td>40</td>\n",
              "      <td>35</td>\n",
              "      <td>168</td>\n",
              "      <td>43.1</td>\n",
              "      <td>2.288</td>\n",
              "      <td>33</td>\n",
              "      <td>1</td>\n",
              "    </tr>\n",
              "  </tbody>\n",
              "</table>\n",
              "</div>\n",
              "    <div class=\"colab-df-buttons\">\n",
              "\n",
              "  <div class=\"colab-df-container\">\n",
              "    <button class=\"colab-df-convert\" onclick=\"convertToInteractive('df-b3cf7d01-c3ce-4124-abf8-5b5f4d0e0b49')\"\n",
              "            title=\"Convert this dataframe to an interactive table.\"\n",
              "            style=\"display:none;\">\n",
              "\n",
              "  <svg xmlns=\"http://www.w3.org/2000/svg\" height=\"24px\" viewBox=\"0 -960 960 960\">\n",
              "    <path d=\"M120-120v-720h720v720H120Zm60-500h600v-160H180v160Zm220 220h160v-160H400v160Zm0 220h160v-160H400v160ZM180-400h160v-160H180v160Zm440 0h160v-160H620v160ZM180-180h160v-160H180v160Zm440 0h160v-160H620v160Z\"/>\n",
              "  </svg>\n",
              "    </button>\n",
              "\n",
              "  <style>\n",
              "    .colab-df-container {\n",
              "      display:flex;\n",
              "      gap: 12px;\n",
              "    }\n",
              "\n",
              "    .colab-df-convert {\n",
              "      background-color: #E8F0FE;\n",
              "      border: none;\n",
              "      border-radius: 50%;\n",
              "      cursor: pointer;\n",
              "      display: none;\n",
              "      fill: #1967D2;\n",
              "      height: 32px;\n",
              "      padding: 0 0 0 0;\n",
              "      width: 32px;\n",
              "    }\n",
              "\n",
              "    .colab-df-convert:hover {\n",
              "      background-color: #E2EBFA;\n",
              "      box-shadow: 0px 1px 2px rgba(60, 64, 67, 0.3), 0px 1px 3px 1px rgba(60, 64, 67, 0.15);\n",
              "      fill: #174EA6;\n",
              "    }\n",
              "\n",
              "    .colab-df-buttons div {\n",
              "      margin-bottom: 4px;\n",
              "    }\n",
              "\n",
              "    [theme=dark] .colab-df-convert {\n",
              "      background-color: #3B4455;\n",
              "      fill: #D2E3FC;\n",
              "    }\n",
              "\n",
              "    [theme=dark] .colab-df-convert:hover {\n",
              "      background-color: #434B5C;\n",
              "      box-shadow: 0px 1px 3px 1px rgba(0, 0, 0, 0.15);\n",
              "      filter: drop-shadow(0px 1px 2px rgba(0, 0, 0, 0.3));\n",
              "      fill: #FFFFFF;\n",
              "    }\n",
              "  </style>\n",
              "\n",
              "    <script>\n",
              "      const buttonEl =\n",
              "        document.querySelector('#df-b3cf7d01-c3ce-4124-abf8-5b5f4d0e0b49 button.colab-df-convert');\n",
              "      buttonEl.style.display =\n",
              "        google.colab.kernel.accessAllowed ? 'block' : 'none';\n",
              "\n",
              "      async function convertToInteractive(key) {\n",
              "        const element = document.querySelector('#df-b3cf7d01-c3ce-4124-abf8-5b5f4d0e0b49');\n",
              "        const dataTable =\n",
              "          await google.colab.kernel.invokeFunction('convertToInteractive',\n",
              "                                                    [key], {});\n",
              "        if (!dataTable) return;\n",
              "\n",
              "        const docLinkHtml = 'Like what you see? Visit the ' +\n",
              "          '<a target=\"_blank\" href=https://colab.research.google.com/notebooks/data_table.ipynb>data table notebook</a>'\n",
              "          + ' to learn more about interactive tables.';\n",
              "        element.innerHTML = '';\n",
              "        dataTable['output_type'] = 'display_data';\n",
              "        await google.colab.output.renderOutput(dataTable, element);\n",
              "        const docLink = document.createElement('div');\n",
              "        docLink.innerHTML = docLinkHtml;\n",
              "        element.appendChild(docLink);\n",
              "      }\n",
              "    </script>\n",
              "  </div>\n",
              "\n",
              "\n",
              "<div id=\"df-3b9b469c-e851-4a17-9f4f-ee377a78660e\">\n",
              "  <button class=\"colab-df-quickchart\" onclick=\"quickchart('df-3b9b469c-e851-4a17-9f4f-ee377a78660e')\"\n",
              "            title=\"Suggest charts\"\n",
              "            style=\"display:none;\">\n",
              "\n",
              "<svg xmlns=\"http://www.w3.org/2000/svg\" height=\"24px\"viewBox=\"0 0 24 24\"\n",
              "     width=\"24px\">\n",
              "    <g>\n",
              "        <path d=\"M19 3H5c-1.1 0-2 .9-2 2v14c0 1.1.9 2 2 2h14c1.1 0 2-.9 2-2V5c0-1.1-.9-2-2-2zM9 17H7v-7h2v7zm4 0h-2V7h2v10zm4 0h-2v-4h2v4z\"/>\n",
              "    </g>\n",
              "</svg>\n",
              "  </button>\n",
              "\n",
              "<style>\n",
              "  .colab-df-quickchart {\n",
              "      --bg-color: #E8F0FE;\n",
              "      --fill-color: #1967D2;\n",
              "      --hover-bg-color: #E2EBFA;\n",
              "      --hover-fill-color: #174EA6;\n",
              "      --disabled-fill-color: #AAA;\n",
              "      --disabled-bg-color: #DDD;\n",
              "  }\n",
              "\n",
              "  [theme=dark] .colab-df-quickchart {\n",
              "      --bg-color: #3B4455;\n",
              "      --fill-color: #D2E3FC;\n",
              "      --hover-bg-color: #434B5C;\n",
              "      --hover-fill-color: #FFFFFF;\n",
              "      --disabled-bg-color: #3B4455;\n",
              "      --disabled-fill-color: #666;\n",
              "  }\n",
              "\n",
              "  .colab-df-quickchart {\n",
              "    background-color: var(--bg-color);\n",
              "    border: none;\n",
              "    border-radius: 50%;\n",
              "    cursor: pointer;\n",
              "    display: none;\n",
              "    fill: var(--fill-color);\n",
              "    height: 32px;\n",
              "    padding: 0;\n",
              "    width: 32px;\n",
              "  }\n",
              "\n",
              "  .colab-df-quickchart:hover {\n",
              "    background-color: var(--hover-bg-color);\n",
              "    box-shadow: 0 1px 2px rgba(60, 64, 67, 0.3), 0 1px 3px 1px rgba(60, 64, 67, 0.15);\n",
              "    fill: var(--button-hover-fill-color);\n",
              "  }\n",
              "\n",
              "  .colab-df-quickchart-complete:disabled,\n",
              "  .colab-df-quickchart-complete:disabled:hover {\n",
              "    background-color: var(--disabled-bg-color);\n",
              "    fill: var(--disabled-fill-color);\n",
              "    box-shadow: none;\n",
              "  }\n",
              "\n",
              "  .colab-df-spinner {\n",
              "    border: 2px solid var(--fill-color);\n",
              "    border-color: transparent;\n",
              "    border-bottom-color: var(--fill-color);\n",
              "    animation:\n",
              "      spin 1s steps(1) infinite;\n",
              "  }\n",
              "\n",
              "  @keyframes spin {\n",
              "    0% {\n",
              "      border-color: transparent;\n",
              "      border-bottom-color: var(--fill-color);\n",
              "      border-left-color: var(--fill-color);\n",
              "    }\n",
              "    20% {\n",
              "      border-color: transparent;\n",
              "      border-left-color: var(--fill-color);\n",
              "      border-top-color: var(--fill-color);\n",
              "    }\n",
              "    30% {\n",
              "      border-color: transparent;\n",
              "      border-left-color: var(--fill-color);\n",
              "      border-top-color: var(--fill-color);\n",
              "      border-right-color: var(--fill-color);\n",
              "    }\n",
              "    40% {\n",
              "      border-color: transparent;\n",
              "      border-right-color: var(--fill-color);\n",
              "      border-top-color: var(--fill-color);\n",
              "    }\n",
              "    60% {\n",
              "      border-color: transparent;\n",
              "      border-right-color: var(--fill-color);\n",
              "    }\n",
              "    80% {\n",
              "      border-color: transparent;\n",
              "      border-right-color: var(--fill-color);\n",
              "      border-bottom-color: var(--fill-color);\n",
              "    }\n",
              "    90% {\n",
              "      border-color: transparent;\n",
              "      border-bottom-color: var(--fill-color);\n",
              "    }\n",
              "  }\n",
              "</style>\n",
              "\n",
              "  <script>\n",
              "    async function quickchart(key) {\n",
              "      const quickchartButtonEl =\n",
              "        document.querySelector('#' + key + ' button');\n",
              "      quickchartButtonEl.disabled = true;  // To prevent multiple clicks.\n",
              "      quickchartButtonEl.classList.add('colab-df-spinner');\n",
              "      try {\n",
              "        const charts = await google.colab.kernel.invokeFunction(\n",
              "            'suggestCharts', [key], {});\n",
              "      } catch (error) {\n",
              "        console.error('Error during call to suggestCharts:', error);\n",
              "      }\n",
              "      quickchartButtonEl.classList.remove('colab-df-spinner');\n",
              "      quickchartButtonEl.classList.add('colab-df-quickchart-complete');\n",
              "    }\n",
              "    (() => {\n",
              "      let quickchartButtonEl =\n",
              "        document.querySelector('#df-3b9b469c-e851-4a17-9f4f-ee377a78660e button');\n",
              "      quickchartButtonEl.style.display =\n",
              "        google.colab.kernel.accessAllowed ? 'block' : 'none';\n",
              "    })();\n",
              "  </script>\n",
              "</div>\n",
              "    </div>\n",
              "  </div>\n"
            ],
            "application/vnd.google.colaboratory.intrinsic+json": {
              "type": "dataframe",
              "summary": "{\n  \"name\": \"data_diabetes = get_data('diabetes')\",\n  \"rows\": 5,\n  \"fields\": [\n    {\n      \"column\": \"Number of times pregnant\",\n      \"properties\": {\n        \"dtype\": \"number\",\n        \"std\": 3,\n        \"min\": 0,\n        \"max\": 8,\n        \"num_unique_values\": 4,\n        \"samples\": [\n          1,\n          0,\n          6\n        ],\n        \"semantic_type\": \"\",\n        \"description\": \"\"\n      }\n    },\n    {\n      \"column\": \"Plasma glucose concentration a 2 hours in an oral glucose tolerance test\",\n      \"properties\": {\n        \"dtype\": \"number\",\n        \"std\": 41,\n        \"min\": 85,\n        \"max\": 183,\n        \"num_unique_values\": 5,\n        \"samples\": [\n          85,\n          137,\n          183\n        ],\n        \"semantic_type\": \"\",\n        \"description\": \"\"\n      }\n    },\n    {\n      \"column\": \"Diastolic blood pressure (mm Hg)\",\n      \"properties\": {\n        \"dtype\": \"number\",\n        \"std\": 12,\n        \"min\": 40,\n        \"max\": 72,\n        \"num_unique_values\": 4,\n        \"samples\": [\n          66,\n          40,\n          72\n        ],\n        \"semantic_type\": \"\",\n        \"description\": \"\"\n      }\n    },\n    {\n      \"column\": \"Triceps skin fold thickness (mm)\",\n      \"properties\": {\n        \"dtype\": \"number\",\n        \"std\": 14,\n        \"min\": 0,\n        \"max\": 35,\n        \"num_unique_values\": 4,\n        \"samples\": [\n          29,\n          23,\n          35\n        ],\n        \"semantic_type\": \"\",\n        \"description\": \"\"\n      }\n    },\n    {\n      \"column\": \"2-Hour serum insulin (mu U/ml)\",\n      \"properties\": {\n        \"dtype\": \"number\",\n        \"std\": 76,\n        \"min\": 0,\n        \"max\": 168,\n        \"num_unique_values\": 3,\n        \"samples\": [\n          0,\n          94,\n          168\n        ],\n        \"semantic_type\": \"\",\n        \"description\": \"\"\n      }\n    },\n    {\n      \"column\": \"Body mass index (weight in kg/(height in m)^2)\",\n      \"properties\": {\n        \"dtype\": \"number\",\n        \"std\": 7.749387072536769,\n        \"min\": 23.3,\n        \"max\": 43.1,\n        \"num_unique_values\": 5,\n        \"samples\": [\n          26.6,\n          43.1,\n          23.3\n        ],\n        \"semantic_type\": \"\",\n        \"description\": \"\"\n      }\n    },\n    {\n      \"column\": \"Diabetes pedigree function\",\n      \"properties\": {\n        \"dtype\": \"number\",\n        \"std\": 0.8456568452983751,\n        \"min\": 0.167,\n        \"max\": 2.288,\n        \"num_unique_values\": 5,\n        \"samples\": [\n          0.351,\n          2.288,\n          0.672\n        ],\n        \"semantic_type\": \"\",\n        \"description\": \"\"\n      }\n    },\n    {\n      \"column\": \"Age (years)\",\n      \"properties\": {\n        \"dtype\": \"number\",\n        \"std\": 10,\n        \"min\": 21,\n        \"max\": 50,\n        \"num_unique_values\": 5,\n        \"samples\": [\n          31,\n          33,\n          32\n        ],\n        \"semantic_type\": \"\",\n        \"description\": \"\"\n      }\n    },\n    {\n      \"column\": \"Class variable\",\n      \"properties\": {\n        \"dtype\": \"number\",\n        \"std\": 0,\n        \"min\": 0,\n        \"max\": 1,\n        \"num_unique_values\": 2,\n        \"samples\": [\n          0,\n          1\n        ],\n        \"semantic_type\": \"\",\n        \"description\": \"\"\n      }\n    }\n  ]\n}"
            }
          },
          "metadata": {}
        }
      ]
    },
    {
      "cell_type": "markdown",
      "source": [
        "Настроим эксперимент, цель - значения столбца 'Class variable'\n"
      ],
      "metadata": {
        "id": "t0Sqi875Y9FF"
      }
    },
    {
      "cell_type": "code",
      "source": [
        "exp_diabetes = setup(data=data_diabetes, target='Class variable', session_id=123)"
      ],
      "metadata": {
        "colab": {
          "base_uri": "https://localhost:8080/",
          "height": 645
        },
        "id": "5T4cC6rXY9o2",
        "outputId": "eaf59eef-1031-453e-a02f-a3b5f6f7e2d1"
      },
      "execution_count": 3,
      "outputs": [
        {
          "output_type": "display_data",
          "data": {
            "text/plain": [
              "<pandas.io.formats.style.Styler at 0x7a51febe9d20>"
            ],
            "text/html": [
              "<style type=\"text/css\">\n",
              "#T_d0d55_row8_col1 {\n",
              "  background-color: lightgreen;\n",
              "}\n",
              "</style>\n",
              "<table id=\"T_d0d55\" class=\"dataframe\">\n",
              "  <thead>\n",
              "    <tr>\n",
              "      <th class=\"blank level0\" >&nbsp;</th>\n",
              "      <th id=\"T_d0d55_level0_col0\" class=\"col_heading level0 col0\" >Description</th>\n",
              "      <th id=\"T_d0d55_level0_col1\" class=\"col_heading level0 col1\" >Value</th>\n",
              "    </tr>\n",
              "  </thead>\n",
              "  <tbody>\n",
              "    <tr>\n",
              "      <th id=\"T_d0d55_level0_row0\" class=\"row_heading level0 row0\" >0</th>\n",
              "      <td id=\"T_d0d55_row0_col0\" class=\"data row0 col0\" >Session id</td>\n",
              "      <td id=\"T_d0d55_row0_col1\" class=\"data row0 col1\" >123</td>\n",
              "    </tr>\n",
              "    <tr>\n",
              "      <th id=\"T_d0d55_level0_row1\" class=\"row_heading level0 row1\" >1</th>\n",
              "      <td id=\"T_d0d55_row1_col0\" class=\"data row1 col0\" >Target</td>\n",
              "      <td id=\"T_d0d55_row1_col1\" class=\"data row1 col1\" >Class variable</td>\n",
              "    </tr>\n",
              "    <tr>\n",
              "      <th id=\"T_d0d55_level0_row2\" class=\"row_heading level0 row2\" >2</th>\n",
              "      <td id=\"T_d0d55_row2_col0\" class=\"data row2 col0\" >Target type</td>\n",
              "      <td id=\"T_d0d55_row2_col1\" class=\"data row2 col1\" >Binary</td>\n",
              "    </tr>\n",
              "    <tr>\n",
              "      <th id=\"T_d0d55_level0_row3\" class=\"row_heading level0 row3\" >3</th>\n",
              "      <td id=\"T_d0d55_row3_col0\" class=\"data row3 col0\" >Original data shape</td>\n",
              "      <td id=\"T_d0d55_row3_col1\" class=\"data row3 col1\" >(768, 9)</td>\n",
              "    </tr>\n",
              "    <tr>\n",
              "      <th id=\"T_d0d55_level0_row4\" class=\"row_heading level0 row4\" >4</th>\n",
              "      <td id=\"T_d0d55_row4_col0\" class=\"data row4 col0\" >Transformed data shape</td>\n",
              "      <td id=\"T_d0d55_row4_col1\" class=\"data row4 col1\" >(768, 9)</td>\n",
              "    </tr>\n",
              "    <tr>\n",
              "      <th id=\"T_d0d55_level0_row5\" class=\"row_heading level0 row5\" >5</th>\n",
              "      <td id=\"T_d0d55_row5_col0\" class=\"data row5 col0\" >Transformed train set shape</td>\n",
              "      <td id=\"T_d0d55_row5_col1\" class=\"data row5 col1\" >(537, 9)</td>\n",
              "    </tr>\n",
              "    <tr>\n",
              "      <th id=\"T_d0d55_level0_row6\" class=\"row_heading level0 row6\" >6</th>\n",
              "      <td id=\"T_d0d55_row6_col0\" class=\"data row6 col0\" >Transformed test set shape</td>\n",
              "      <td id=\"T_d0d55_row6_col1\" class=\"data row6 col1\" >(231, 9)</td>\n",
              "    </tr>\n",
              "    <tr>\n",
              "      <th id=\"T_d0d55_level0_row7\" class=\"row_heading level0 row7\" >7</th>\n",
              "      <td id=\"T_d0d55_row7_col0\" class=\"data row7 col0\" >Numeric features</td>\n",
              "      <td id=\"T_d0d55_row7_col1\" class=\"data row7 col1\" >8</td>\n",
              "    </tr>\n",
              "    <tr>\n",
              "      <th id=\"T_d0d55_level0_row8\" class=\"row_heading level0 row8\" >8</th>\n",
              "      <td id=\"T_d0d55_row8_col0\" class=\"data row8 col0\" >Preprocess</td>\n",
              "      <td id=\"T_d0d55_row8_col1\" class=\"data row8 col1\" >True</td>\n",
              "    </tr>\n",
              "    <tr>\n",
              "      <th id=\"T_d0d55_level0_row9\" class=\"row_heading level0 row9\" >9</th>\n",
              "      <td id=\"T_d0d55_row9_col0\" class=\"data row9 col0\" >Imputation type</td>\n",
              "      <td id=\"T_d0d55_row9_col1\" class=\"data row9 col1\" >simple</td>\n",
              "    </tr>\n",
              "    <tr>\n",
              "      <th id=\"T_d0d55_level0_row10\" class=\"row_heading level0 row10\" >10</th>\n",
              "      <td id=\"T_d0d55_row10_col0\" class=\"data row10 col0\" >Numeric imputation</td>\n",
              "      <td id=\"T_d0d55_row10_col1\" class=\"data row10 col1\" >mean</td>\n",
              "    </tr>\n",
              "    <tr>\n",
              "      <th id=\"T_d0d55_level0_row11\" class=\"row_heading level0 row11\" >11</th>\n",
              "      <td id=\"T_d0d55_row11_col0\" class=\"data row11 col0\" >Categorical imputation</td>\n",
              "      <td id=\"T_d0d55_row11_col1\" class=\"data row11 col1\" >mode</td>\n",
              "    </tr>\n",
              "    <tr>\n",
              "      <th id=\"T_d0d55_level0_row12\" class=\"row_heading level0 row12\" >12</th>\n",
              "      <td id=\"T_d0d55_row12_col0\" class=\"data row12 col0\" >Fold Generator</td>\n",
              "      <td id=\"T_d0d55_row12_col1\" class=\"data row12 col1\" >StratifiedKFold</td>\n",
              "    </tr>\n",
              "    <tr>\n",
              "      <th id=\"T_d0d55_level0_row13\" class=\"row_heading level0 row13\" >13</th>\n",
              "      <td id=\"T_d0d55_row13_col0\" class=\"data row13 col0\" >Fold Number</td>\n",
              "      <td id=\"T_d0d55_row13_col1\" class=\"data row13 col1\" >10</td>\n",
              "    </tr>\n",
              "    <tr>\n",
              "      <th id=\"T_d0d55_level0_row14\" class=\"row_heading level0 row14\" >14</th>\n",
              "      <td id=\"T_d0d55_row14_col0\" class=\"data row14 col0\" >CPU Jobs</td>\n",
              "      <td id=\"T_d0d55_row14_col1\" class=\"data row14 col1\" >-1</td>\n",
              "    </tr>\n",
              "    <tr>\n",
              "      <th id=\"T_d0d55_level0_row15\" class=\"row_heading level0 row15\" >15</th>\n",
              "      <td id=\"T_d0d55_row15_col0\" class=\"data row15 col0\" >Use GPU</td>\n",
              "      <td id=\"T_d0d55_row15_col1\" class=\"data row15 col1\" >False</td>\n",
              "    </tr>\n",
              "    <tr>\n",
              "      <th id=\"T_d0d55_level0_row16\" class=\"row_heading level0 row16\" >16</th>\n",
              "      <td id=\"T_d0d55_row16_col0\" class=\"data row16 col0\" >Log Experiment</td>\n",
              "      <td id=\"T_d0d55_row16_col1\" class=\"data row16 col1\" >False</td>\n",
              "    </tr>\n",
              "    <tr>\n",
              "      <th id=\"T_d0d55_level0_row17\" class=\"row_heading level0 row17\" >17</th>\n",
              "      <td id=\"T_d0d55_row17_col0\" class=\"data row17 col0\" >Experiment Name</td>\n",
              "      <td id=\"T_d0d55_row17_col1\" class=\"data row17 col1\" >clf-default-name</td>\n",
              "    </tr>\n",
              "    <tr>\n",
              "      <th id=\"T_d0d55_level0_row18\" class=\"row_heading level0 row18\" >18</th>\n",
              "      <td id=\"T_d0d55_row18_col0\" class=\"data row18 col0\" >USI</td>\n",
              "      <td id=\"T_d0d55_row18_col1\" class=\"data row18 col1\" >2620</td>\n",
              "    </tr>\n",
              "  </tbody>\n",
              "</table>\n"
            ]
          },
          "metadata": {}
        }
      ]
    },
    {
      "cell_type": "markdown",
      "source": [
        "Выполним поиск наилучшей модели"
      ],
      "metadata": {
        "id": "28KR93vxZOuT"
      }
    },
    {
      "cell_type": "code",
      "source": [
        "best_model = compare_models()"
      ],
      "metadata": {
        "colab": {
          "base_uri": "https://localhost:8080/",
          "height": 520,
          "referenced_widgets": [
            "6b69cce231624ffcb92f127d46c8c02b",
            "8c80832280044c5eaa6df8ac5f8786b7",
            "16ba5a79ca564d12ae76e81f86a73180",
            "b2f74541ca134bba9e6ae1ee1c473b18",
            "45aabe3195cb4e39b4d793cac7e68306",
            "817c61b7b0f5422e914d5259772b724a",
            "aee5d2223b0848a8b3baaf8bd282b8e3",
            "68c33335921a4baab174ddc7ab9c2559",
            "beb783fdb29f450589e55e403f33802c",
            "470a2057754b498bb386d202f1f09ff1",
            "ce8cd310af6b4c0ca01df0a9b16fc2b4"
          ]
        },
        "id": "FmE3KwDsZO__",
        "outputId": "a845e331-8dab-4118-8498-5b5bd119a954"
      },
      "execution_count": 4,
      "outputs": [
        {
          "output_type": "display_data",
          "data": {
            "text/plain": [
              "<IPython.core.display.HTML object>"
            ],
            "text/html": []
          },
          "metadata": {}
        },
        {
          "output_type": "display_data",
          "data": {
            "text/plain": [
              "<pandas.io.formats.style.Styler at 0x7a51fec3add0>"
            ],
            "text/html": [
              "<style type=\"text/css\">\n",
              "#T_75390 th {\n",
              "  text-align: left;\n",
              "}\n",
              "#T_75390_row0_col0, #T_75390_row0_col2, #T_75390_row0_col3, #T_75390_row0_col4, #T_75390_row1_col0, #T_75390_row1_col1, #T_75390_row1_col3, #T_75390_row1_col5, #T_75390_row1_col6, #T_75390_row1_col7, #T_75390_row2_col0, #T_75390_row2_col1, #T_75390_row2_col2, #T_75390_row2_col3, #T_75390_row2_col4, #T_75390_row2_col5, #T_75390_row2_col6, #T_75390_row2_col7, #T_75390_row3_col0, #T_75390_row3_col1, #T_75390_row3_col2, #T_75390_row3_col3, #T_75390_row3_col4, #T_75390_row3_col5, #T_75390_row3_col6, #T_75390_row3_col7, #T_75390_row4_col0, #T_75390_row4_col1, #T_75390_row4_col2, #T_75390_row4_col4, #T_75390_row4_col5, #T_75390_row4_col6, #T_75390_row4_col7, #T_75390_row5_col0, #T_75390_row5_col1, #T_75390_row5_col2, #T_75390_row5_col3, #T_75390_row5_col4, #T_75390_row5_col5, #T_75390_row5_col6, #T_75390_row5_col7, #T_75390_row6_col0, #T_75390_row6_col1, #T_75390_row6_col2, #T_75390_row6_col3, #T_75390_row6_col4, #T_75390_row6_col5, #T_75390_row6_col6, #T_75390_row6_col7, #T_75390_row7_col0, #T_75390_row7_col1, #T_75390_row7_col2, #T_75390_row7_col3, #T_75390_row7_col4, #T_75390_row7_col5, #T_75390_row7_col6, #T_75390_row7_col7, #T_75390_row8_col0, #T_75390_row8_col1, #T_75390_row8_col2, #T_75390_row8_col3, #T_75390_row8_col4, #T_75390_row8_col5, #T_75390_row8_col6, #T_75390_row8_col7, #T_75390_row9_col0, #T_75390_row9_col1, #T_75390_row9_col2, #T_75390_row9_col3, #T_75390_row9_col4, #T_75390_row9_col5, #T_75390_row9_col6, #T_75390_row9_col7, #T_75390_row10_col0, #T_75390_row10_col1, #T_75390_row10_col2, #T_75390_row10_col3, #T_75390_row10_col4, #T_75390_row10_col5, #T_75390_row10_col6, #T_75390_row10_col7, #T_75390_row11_col0, #T_75390_row11_col1, #T_75390_row11_col2, #T_75390_row11_col3, #T_75390_row11_col4, #T_75390_row11_col5, #T_75390_row11_col6, #T_75390_row11_col7, #T_75390_row12_col0, #T_75390_row12_col1, #T_75390_row12_col2, #T_75390_row12_col3, #T_75390_row12_col4, #T_75390_row12_col5, #T_75390_row12_col6, #T_75390_row12_col7, #T_75390_row13_col0, #T_75390_row13_col1, #T_75390_row13_col2, #T_75390_row13_col3, #T_75390_row13_col4, #T_75390_row13_col5, #T_75390_row13_col6, #T_75390_row13_col7, #T_75390_row14_col0, #T_75390_row14_col1, #T_75390_row14_col2, #T_75390_row14_col3, #T_75390_row14_col4, #T_75390_row14_col5, #T_75390_row14_col6, #T_75390_row14_col7 {\n",
              "  text-align: left;\n",
              "}\n",
              "#T_75390_row0_col1, #T_75390_row0_col5, #T_75390_row0_col6, #T_75390_row0_col7, #T_75390_row1_col2, #T_75390_row1_col4, #T_75390_row4_col3 {\n",
              "  text-align: left;\n",
              "  background-color: yellow;\n",
              "}\n",
              "#T_75390_row0_col8, #T_75390_row1_col8, #T_75390_row2_col8, #T_75390_row3_col8, #T_75390_row5_col8, #T_75390_row6_col8, #T_75390_row7_col8, #T_75390_row8_col8, #T_75390_row9_col8, #T_75390_row10_col8, #T_75390_row11_col8, #T_75390_row12_col8, #T_75390_row13_col8, #T_75390_row14_col8 {\n",
              "  text-align: left;\n",
              "  background-color: lightgrey;\n",
              "}\n",
              "#T_75390_row4_col8 {\n",
              "  text-align: left;\n",
              "  background-color: yellow;\n",
              "  background-color: lightgrey;\n",
              "}\n",
              "</style>\n",
              "<table id=\"T_75390\" class=\"dataframe\">\n",
              "  <thead>\n",
              "    <tr>\n",
              "      <th class=\"blank level0\" >&nbsp;</th>\n",
              "      <th id=\"T_75390_level0_col0\" class=\"col_heading level0 col0\" >Model</th>\n",
              "      <th id=\"T_75390_level0_col1\" class=\"col_heading level0 col1\" >Accuracy</th>\n",
              "      <th id=\"T_75390_level0_col2\" class=\"col_heading level0 col2\" >AUC</th>\n",
              "      <th id=\"T_75390_level0_col3\" class=\"col_heading level0 col3\" >Recall</th>\n",
              "      <th id=\"T_75390_level0_col4\" class=\"col_heading level0 col4\" >Prec.</th>\n",
              "      <th id=\"T_75390_level0_col5\" class=\"col_heading level0 col5\" >F1</th>\n",
              "      <th id=\"T_75390_level0_col6\" class=\"col_heading level0 col6\" >Kappa</th>\n",
              "      <th id=\"T_75390_level0_col7\" class=\"col_heading level0 col7\" >MCC</th>\n",
              "      <th id=\"T_75390_level0_col8\" class=\"col_heading level0 col8\" >TT (Sec)</th>\n",
              "    </tr>\n",
              "  </thead>\n",
              "  <tbody>\n",
              "    <tr>\n",
              "      <th id=\"T_75390_level0_row0\" class=\"row_heading level0 row0\" >lr</th>\n",
              "      <td id=\"T_75390_row0_col0\" class=\"data row0 col0\" >Logistic Regression</td>\n",
              "      <td id=\"T_75390_row0_col1\" class=\"data row0 col1\" >0.7689</td>\n",
              "      <td id=\"T_75390_row0_col2\" class=\"data row0 col2\" >0.8047</td>\n",
              "      <td id=\"T_75390_row0_col3\" class=\"data row0 col3\" >0.5602</td>\n",
              "      <td id=\"T_75390_row0_col4\" class=\"data row0 col4\" >0.7208</td>\n",
              "      <td id=\"T_75390_row0_col5\" class=\"data row0 col5\" >0.6279</td>\n",
              "      <td id=\"T_75390_row0_col6\" class=\"data row0 col6\" >0.4641</td>\n",
              "      <td id=\"T_75390_row0_col7\" class=\"data row0 col7\" >0.4736</td>\n",
              "      <td id=\"T_75390_row0_col8\" class=\"data row0 col8\" >1.0290</td>\n",
              "    </tr>\n",
              "    <tr>\n",
              "      <th id=\"T_75390_level0_row1\" class=\"row_heading level0 row1\" >ridge</th>\n",
              "      <td id=\"T_75390_row1_col0\" class=\"data row1 col0\" >Ridge Classifier</td>\n",
              "      <td id=\"T_75390_row1_col1\" class=\"data row1 col1\" >0.7670</td>\n",
              "      <td id=\"T_75390_row1_col2\" class=\"data row1 col2\" >0.8060</td>\n",
              "      <td id=\"T_75390_row1_col3\" class=\"data row1 col3\" >0.5497</td>\n",
              "      <td id=\"T_75390_row1_col4\" class=\"data row1 col4\" >0.7235</td>\n",
              "      <td id=\"T_75390_row1_col5\" class=\"data row1 col5\" >0.6221</td>\n",
              "      <td id=\"T_75390_row1_col6\" class=\"data row1 col6\" >0.4581</td>\n",
              "      <td id=\"T_75390_row1_col7\" class=\"data row1 col7\" >0.4690</td>\n",
              "      <td id=\"T_75390_row1_col8\" class=\"data row1 col8\" >0.0500</td>\n",
              "    </tr>\n",
              "    <tr>\n",
              "      <th id=\"T_75390_level0_row2\" class=\"row_heading level0 row2\" >lda</th>\n",
              "      <td id=\"T_75390_row2_col0\" class=\"data row2 col0\" >Linear Discriminant Analysis</td>\n",
              "      <td id=\"T_75390_row2_col1\" class=\"data row2 col1\" >0.7670</td>\n",
              "      <td id=\"T_75390_row2_col2\" class=\"data row2 col2\" >0.8055</td>\n",
              "      <td id=\"T_75390_row2_col3\" class=\"data row2 col3\" >0.5550</td>\n",
              "      <td id=\"T_75390_row2_col4\" class=\"data row2 col4\" >0.7202</td>\n",
              "      <td id=\"T_75390_row2_col5\" class=\"data row2 col5\" >0.6243</td>\n",
              "      <td id=\"T_75390_row2_col6\" class=\"data row2 col6\" >0.4594</td>\n",
              "      <td id=\"T_75390_row2_col7\" class=\"data row2 col7\" >0.4695</td>\n",
              "      <td id=\"T_75390_row2_col8\" class=\"data row2 col8\" >0.0600</td>\n",
              "    </tr>\n",
              "    <tr>\n",
              "      <th id=\"T_75390_level0_row3\" class=\"row_heading level0 row3\" >rf</th>\n",
              "      <td id=\"T_75390_row3_col0\" class=\"data row3 col0\" >Random Forest Classifier</td>\n",
              "      <td id=\"T_75390_row3_col1\" class=\"data row3 col1\" >0.7485</td>\n",
              "      <td id=\"T_75390_row3_col2\" class=\"data row3 col2\" >0.7911</td>\n",
              "      <td id=\"T_75390_row3_col3\" class=\"data row3 col3\" >0.5284</td>\n",
              "      <td id=\"T_75390_row3_col4\" class=\"data row3 col4\" >0.6811</td>\n",
              "      <td id=\"T_75390_row3_col5\" class=\"data row3 col5\" >0.5924</td>\n",
              "      <td id=\"T_75390_row3_col6\" class=\"data row3 col6\" >0.4150</td>\n",
              "      <td id=\"T_75390_row3_col7\" class=\"data row3 col7\" >0.4238</td>\n",
              "      <td id=\"T_75390_row3_col8\" class=\"data row3 col8\" >0.4310</td>\n",
              "    </tr>\n",
              "    <tr>\n",
              "      <th id=\"T_75390_level0_row4\" class=\"row_heading level0 row4\" >nb</th>\n",
              "      <td id=\"T_75390_row4_col0\" class=\"data row4 col0\" >Naive Bayes</td>\n",
              "      <td id=\"T_75390_row4_col1\" class=\"data row4 col1\" >0.7427</td>\n",
              "      <td id=\"T_75390_row4_col2\" class=\"data row4 col2\" >0.7955</td>\n",
              "      <td id=\"T_75390_row4_col3\" class=\"data row4 col3\" >0.5702</td>\n",
              "      <td id=\"T_75390_row4_col4\" class=\"data row4 col4\" >0.6543</td>\n",
              "      <td id=\"T_75390_row4_col5\" class=\"data row4 col5\" >0.6043</td>\n",
              "      <td id=\"T_75390_row4_col6\" class=\"data row4 col6\" >0.4156</td>\n",
              "      <td id=\"T_75390_row4_col7\" class=\"data row4 col7\" >0.4215</td>\n",
              "      <td id=\"T_75390_row4_col8\" class=\"data row4 col8\" >0.0360</td>\n",
              "    </tr>\n",
              "    <tr>\n",
              "      <th id=\"T_75390_level0_row5\" class=\"row_heading level0 row5\" >gbc</th>\n",
              "      <td id=\"T_75390_row5_col0\" class=\"data row5 col0\" >Gradient Boosting Classifier</td>\n",
              "      <td id=\"T_75390_row5_col1\" class=\"data row5 col1\" >0.7373</td>\n",
              "      <td id=\"T_75390_row5_col2\" class=\"data row5 col2\" >0.7909</td>\n",
              "      <td id=\"T_75390_row5_col3\" class=\"data row5 col3\" >0.5550</td>\n",
              "      <td id=\"T_75390_row5_col4\" class=\"data row5 col4\" >0.6445</td>\n",
              "      <td id=\"T_75390_row5_col5\" class=\"data row5 col5\" >0.5931</td>\n",
              "      <td id=\"T_75390_row5_col6\" class=\"data row5 col6\" >0.4013</td>\n",
              "      <td id=\"T_75390_row5_col7\" class=\"data row5 col7\" >0.4059</td>\n",
              "      <td id=\"T_75390_row5_col8\" class=\"data row5 col8\" >0.2630</td>\n",
              "    </tr>\n",
              "    <tr>\n",
              "      <th id=\"T_75390_level0_row6\" class=\"row_heading level0 row6\" >ada</th>\n",
              "      <td id=\"T_75390_row6_col0\" class=\"data row6 col0\" >Ada Boost Classifier</td>\n",
              "      <td id=\"T_75390_row6_col1\" class=\"data row6 col1\" >0.7372</td>\n",
              "      <td id=\"T_75390_row6_col2\" class=\"data row6 col2\" >0.7799</td>\n",
              "      <td id=\"T_75390_row6_col3\" class=\"data row6 col3\" >0.5275</td>\n",
              "      <td id=\"T_75390_row6_col4\" class=\"data row6 col4\" >0.6585</td>\n",
              "      <td id=\"T_75390_row6_col5\" class=\"data row6 col5\" >0.5796</td>\n",
              "      <td id=\"T_75390_row6_col6\" class=\"data row6 col6\" >0.3926</td>\n",
              "      <td id=\"T_75390_row6_col7\" class=\"data row6 col7\" >0.4017</td>\n",
              "      <td id=\"T_75390_row6_col8\" class=\"data row6 col8\" >0.1730</td>\n",
              "    </tr>\n",
              "    <tr>\n",
              "      <th id=\"T_75390_level0_row7\" class=\"row_heading level0 row7\" >et</th>\n",
              "      <td id=\"T_75390_row7_col0\" class=\"data row7 col0\" >Extra Trees Classifier</td>\n",
              "      <td id=\"T_75390_row7_col1\" class=\"data row7 col1\" >0.7299</td>\n",
              "      <td id=\"T_75390_row7_col2\" class=\"data row7 col2\" >0.7788</td>\n",
              "      <td id=\"T_75390_row7_col3\" class=\"data row7 col3\" >0.4965</td>\n",
              "      <td id=\"T_75390_row7_col4\" class=\"data row7 col4\" >0.6516</td>\n",
              "      <td id=\"T_75390_row7_col5\" class=\"data row7 col5\" >0.5596</td>\n",
              "      <td id=\"T_75390_row7_col6\" class=\"data row7 col6\" >0.3706</td>\n",
              "      <td id=\"T_75390_row7_col7\" class=\"data row7 col7\" >0.3802</td>\n",
              "      <td id=\"T_75390_row7_col8\" class=\"data row7 col8\" >0.2030</td>\n",
              "    </tr>\n",
              "    <tr>\n",
              "      <th id=\"T_75390_level0_row8\" class=\"row_heading level0 row8\" >qda</th>\n",
              "      <td id=\"T_75390_row8_col0\" class=\"data row8 col0\" >Quadratic Discriminant Analysis</td>\n",
              "      <td id=\"T_75390_row8_col1\" class=\"data row8 col1\" >0.7282</td>\n",
              "      <td id=\"T_75390_row8_col2\" class=\"data row8 col2\" >0.7894</td>\n",
              "      <td id=\"T_75390_row8_col3\" class=\"data row8 col3\" >0.5281</td>\n",
              "      <td id=\"T_75390_row8_col4\" class=\"data row8 col4\" >0.6558</td>\n",
              "      <td id=\"T_75390_row8_col5\" class=\"data row8 col5\" >0.5736</td>\n",
              "      <td id=\"T_75390_row8_col6\" class=\"data row8 col6\" >0.3785</td>\n",
              "      <td id=\"T_75390_row8_col7\" class=\"data row8 col7\" >0.3910</td>\n",
              "      <td id=\"T_75390_row8_col8\" class=\"data row8 col8\" >0.0820</td>\n",
              "    </tr>\n",
              "    <tr>\n",
              "      <th id=\"T_75390_level0_row9\" class=\"row_heading level0 row9\" >lightgbm</th>\n",
              "      <td id=\"T_75390_row9_col0\" class=\"data row9 col0\" >Light Gradient Boosting Machine</td>\n",
              "      <td id=\"T_75390_row9_col1\" class=\"data row9 col1\" >0.7133</td>\n",
              "      <td id=\"T_75390_row9_col2\" class=\"data row9 col2\" >0.7645</td>\n",
              "      <td id=\"T_75390_row9_col3\" class=\"data row9 col3\" >0.5398</td>\n",
              "      <td id=\"T_75390_row9_col4\" class=\"data row9 col4\" >0.6036</td>\n",
              "      <td id=\"T_75390_row9_col5\" class=\"data row9 col5\" >0.5650</td>\n",
              "      <td id=\"T_75390_row9_col6\" class=\"data row9 col6\" >0.3534</td>\n",
              "      <td id=\"T_75390_row9_col7\" class=\"data row9 col7\" >0.3580</td>\n",
              "      <td id=\"T_75390_row9_col8\" class=\"data row9 col8\" >0.6500</td>\n",
              "    </tr>\n",
              "    <tr>\n",
              "      <th id=\"T_75390_level0_row10\" class=\"row_heading level0 row10\" >knn</th>\n",
              "      <td id=\"T_75390_row10_col0\" class=\"data row10 col0\" >K Neighbors Classifier</td>\n",
              "      <td id=\"T_75390_row10_col1\" class=\"data row10 col1\" >0.7001</td>\n",
              "      <td id=\"T_75390_row10_col2\" class=\"data row10 col2\" >0.7164</td>\n",
              "      <td id=\"T_75390_row10_col3\" class=\"data row10 col3\" >0.5020</td>\n",
              "      <td id=\"T_75390_row10_col4\" class=\"data row10 col4\" >0.5982</td>\n",
              "      <td id=\"T_75390_row10_col5\" class=\"data row10 col5\" >0.5413</td>\n",
              "      <td id=\"T_75390_row10_col6\" class=\"data row10 col6\" >0.3209</td>\n",
              "      <td id=\"T_75390_row10_col7\" class=\"data row10 col7\" >0.3271</td>\n",
              "      <td id=\"T_75390_row10_col8\" class=\"data row10 col8\" >0.0610</td>\n",
              "    </tr>\n",
              "    <tr>\n",
              "      <th id=\"T_75390_level0_row11\" class=\"row_heading level0 row11\" >dt</th>\n",
              "      <td id=\"T_75390_row11_col0\" class=\"data row11 col0\" >Decision Tree Classifier</td>\n",
              "      <td id=\"T_75390_row11_col1\" class=\"data row11 col1\" >0.6928</td>\n",
              "      <td id=\"T_75390_row11_col2\" class=\"data row11 col2\" >0.6512</td>\n",
              "      <td id=\"T_75390_row11_col3\" class=\"data row11 col3\" >0.5137</td>\n",
              "      <td id=\"T_75390_row11_col4\" class=\"data row11 col4\" >0.5636</td>\n",
              "      <td id=\"T_75390_row11_col5\" class=\"data row11 col5\" >0.5328</td>\n",
              "      <td id=\"T_75390_row11_col6\" class=\"data row11 col6\" >0.3070</td>\n",
              "      <td id=\"T_75390_row11_col7\" class=\"data row11 col7\" >0.3098</td>\n",
              "      <td id=\"T_75390_row11_col8\" class=\"data row11 col8\" >0.0470</td>\n",
              "    </tr>\n",
              "    <tr>\n",
              "      <th id=\"T_75390_level0_row12\" class=\"row_heading level0 row12\" >xgboost</th>\n",
              "      <td id=\"T_75390_row12_col0\" class=\"data row12 col0\" >Extreme Gradient Boosting</td>\n",
              "      <td id=\"T_75390_row12_col1\" class=\"data row12 col1\" >0.6891</td>\n",
              "      <td id=\"T_75390_row12_col2\" class=\"data row12 col2\" >0.7572</td>\n",
              "      <td id=\"T_75390_row12_col3\" class=\"data row12 col3\" >0.5292</td>\n",
              "      <td id=\"T_75390_row12_col4\" class=\"data row12 col4\" >0.5668</td>\n",
              "      <td id=\"T_75390_row12_col5\" class=\"data row12 col5\" >0.5438</td>\n",
              "      <td id=\"T_75390_row12_col6\" class=\"data row12 col6\" >0.3089</td>\n",
              "      <td id=\"T_75390_row12_col7\" class=\"data row12 col7\" >0.3122</td>\n",
              "      <td id=\"T_75390_row12_col8\" class=\"data row12 col8\" >0.1020</td>\n",
              "    </tr>\n",
              "    <tr>\n",
              "      <th id=\"T_75390_level0_row13\" class=\"row_heading level0 row13\" >dummy</th>\n",
              "      <td id=\"T_75390_row13_col0\" class=\"data row13 col0\" >Dummy Classifier</td>\n",
              "      <td id=\"T_75390_row13_col1\" class=\"data row13 col1\" >0.6518</td>\n",
              "      <td id=\"T_75390_row13_col2\" class=\"data row13 col2\" >0.5000</td>\n",
              "      <td id=\"T_75390_row13_col3\" class=\"data row13 col3\" >0.0000</td>\n",
              "      <td id=\"T_75390_row13_col4\" class=\"data row13 col4\" >0.0000</td>\n",
              "      <td id=\"T_75390_row13_col5\" class=\"data row13 col5\" >0.0000</td>\n",
              "      <td id=\"T_75390_row13_col6\" class=\"data row13 col6\" >0.0000</td>\n",
              "      <td id=\"T_75390_row13_col7\" class=\"data row13 col7\" >0.0000</td>\n",
              "      <td id=\"T_75390_row13_col8\" class=\"data row13 col8\" >0.0560</td>\n",
              "    </tr>\n",
              "    <tr>\n",
              "      <th id=\"T_75390_level0_row14\" class=\"row_heading level0 row14\" >svm</th>\n",
              "      <td id=\"T_75390_row14_col0\" class=\"data row14 col0\" >SVM - Linear Kernel</td>\n",
              "      <td id=\"T_75390_row14_col1\" class=\"data row14 col1\" >0.5954</td>\n",
              "      <td id=\"T_75390_row14_col2\" class=\"data row14 col2\" >0.5914</td>\n",
              "      <td id=\"T_75390_row14_col3\" class=\"data row14 col3\" >0.3395</td>\n",
              "      <td id=\"T_75390_row14_col4\" class=\"data row14 col4\" >0.4090</td>\n",
              "      <td id=\"T_75390_row14_col5\" class=\"data row14 col5\" >0.2671</td>\n",
              "      <td id=\"T_75390_row14_col6\" class=\"data row14 col6\" >0.0720</td>\n",
              "      <td id=\"T_75390_row14_col7\" class=\"data row14 col7\" >0.0912</td>\n",
              "      <td id=\"T_75390_row14_col8\" class=\"data row14 col8\" >0.0400</td>\n",
              "    </tr>\n",
              "  </tbody>\n",
              "</table>\n"
            ]
          },
          "metadata": {}
        },
        {
          "output_type": "display_data",
          "data": {
            "text/plain": [
              "Processing:   0%|          | 0/65 [00:00<?, ?it/s]"
            ],
            "application/vnd.jupyter.widget-view+json": {
              "version_major": 2,
              "version_minor": 0,
              "model_id": "6b69cce231624ffcb92f127d46c8c02b"
            }
          },
          "metadata": {
            "application/vnd.jupyter.widget-view+json": {
              "colab": {
                "custom_widget_manager": {
                  "url": "https://ssl.gstatic.com/colaboratory-static/widgets/colab-cdn-widget-manager/2b70e893a8ba7c0f/manager.min.js"
                }
              }
            }
          }
        },
        {
          "output_type": "display_data",
          "data": {
            "text/plain": [
              "<IPython.core.display.HTML object>"
            ],
            "text/html": []
          },
          "metadata": {}
        }
      ]
    },
    {
      "cell_type": "markdown",
      "source": [
        "Логистическая модель оказалось наилучшей. Определим наиболее значимые признаки"
      ],
      "metadata": {
        "id": "w3X8y4lZZUi0"
      }
    },
    {
      "cell_type": "code",
      "source": [
        "plot_model(best_model, plot='feature')"
      ],
      "metadata": {
        "colab": {
          "base_uri": "https://localhost:8080/",
          "height": 404
        },
        "id": "s9aM2ZrKZUzs",
        "outputId": "fdf29752-6921-4c3b-8061-39cd6605aa3c"
      },
      "execution_count": 5,
      "outputs": [
        {
          "output_type": "display_data",
          "data": {
            "text/plain": [
              "<IPython.core.display.HTML object>"
            ],
            "text/html": []
          },
          "metadata": {}
        },
        {
          "output_type": "display_data",
          "data": {
            "text/plain": [
              "<Figure size 800x500 with 1 Axes>"
            ],
            "image/png": "[encoded data removed]"
          },
          "metadata": {}
        }
      ]
    },
    {
      "cell_type": "markdown",
      "source": [
        "Выполним графическое построение наилучшей модели"
      ],
      "metadata": {
        "id": "w-nIe-Y8ZeS5"
      }
    },
    {
      "cell_type": "code",
      "source": [
        "plot_model(best_model)"
      ],
      "metadata": {
        "colab": {
          "base_uri": "https://localhost:8080/",
          "height": 524
        },
        "id": "j1A38hphZenX",
        "outputId": "759e341a-2c5f-46e5-8de4-fbdbdb0dcc9e"
      },
      "execution_count": 6,
      "outputs": [
        {
          "output_type": "display_data",
          "data": {
            "text/plain": [
              "<IPython.core.display.HTML object>"
            ],
            "text/html": []
          },
          "metadata": {}
        },
        {
          "output_type": "display_data",
          "data": {
            "text/plain": [
              "<Figure size 800x550 with 1 Axes>"
            ],
            "image/png": "[encoded data removed]"
          },
          "metadata": {}
        }
      ]
    }
  ]
}